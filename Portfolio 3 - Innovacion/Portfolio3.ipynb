{
  "cells": [
    {
      "cell_type": "markdown",
      "metadata": {
        "id": "bXumEJpUk1R0"
      },
      "source": [
        "### 1. Import Libraries"
      ]
    },
    {
      "cell_type": "code",
      "execution_count": 16,
      "metadata": {
        "id": "9Ifmu_HOk1R1"
      },
      "outputs": [],
      "source": [
        "import yfinance as yf\n",
        "from scipy.optimize import minimize\n",
        "import numpy as np\n",
        "import os"
      ]
    },
    {
      "cell_type": "markdown",
      "metadata": {
        "id": "CxSYTNC8k1R1"
      },
      "source": [
        "### 2. Data Obtention"
      ]
    },
    {
      "cell_type": "code",
      "execution_count": 17,
      "metadata": {
        "colab": {
          "base_uri": "https://localhost:8080/"
        },
        "id": "kgSSnNQ4k1R2",
        "outputId": "4a06f99f-4044-486d-c14c-6a1ba3a9a72b"
      },
      "outputs": [
        {
          "output_type": "stream",
          "name": "stderr",
          "text": [
            "[*********************100%***********************]  4 of 4 completed"
          ]
        },
        {
          "output_type": "stream",
          "name": "stdout",
          "text": [
            "Data:\n",
            "Price            Close                                    Dividends            \\\n",
            "Ticker            ASML        NEE          PH       SBGSF      ASML  NEE   PH   \n",
            "Date                                                                            \n",
            "2021-01-04  482.239594  67.349091  250.678802  137.562943       0.0  0.0  0.0   \n",
            "2021-01-05  487.409241  67.848175  256.332855  136.498001       0.0  0.0  0.0   \n",
            "2021-01-06  472.807007  71.169342  264.653595  142.646896       0.0  0.0  0.0   \n",
            "2021-01-07  483.618835  71.949738  265.134125  143.424774       0.0  0.0  0.0   \n",
            "2021-01-08  490.669159  73.619408  264.474579  143.721085       0.0  0.0  0.0   \n",
            "...                ...        ...         ...         ...       ...  ...  ...   \n",
            "2024-12-23  721.039978  72.489998  644.128357  247.080002       0.0  0.0  0.0   \n",
            "2024-12-24  719.710022  72.910004  651.031982  248.800003       0.0  0.0  0.0   \n",
            "2024-12-26  715.859985  72.370003  649.884705  256.000000       0.0  0.0  0.0   \n",
            "2024-12-27  713.590027  72.110001  642.292664  252.000000       0.0  0.0  0.0   \n",
            "2024-12-30  696.150024  71.760002  635.319153  248.500000       0.0  0.0  0.0   \n",
            "\n",
            "Price                   High             ...        Open              \\\n",
            "Ticker     SBGSF        ASML        NEE  ...          PH       SBGSF   \n",
            "Date                                     ...                           \n",
            "2021-01-04   0.0  486.820870  70.325444  ...  257.736879  139.831733   \n",
            "2021-01-05   0.0  487.409241  68.220223  ...  250.019255  137.424039   \n",
            "2021-01-06   0.0  482.085292  72.022324  ...  258.547281  137.933366   \n",
            "2021-01-07   0.0  485.345262  73.192912  ...  268.177863  143.952608   \n",
            "2021-01-08   0.0  496.012412  73.692003  ...  265.171894  144.045204   \n",
            "...          ...         ...        ...  ...         ...         ...   \n",
            "2024-12-23   0.0  722.049988  72.529999  ...  641.055599  254.500000   \n",
            "2024-12-24   0.0  720.200012  72.910004  ...  642.681714  247.080002   \n",
            "2024-12-26   0.0  720.500000  72.900002  ...  648.208671  250.000000   \n",
            "2024-12-27   0.0  717.500000  72.430000  ...  644.477505  256.000000   \n",
            "2024-12-30   0.0  702.809998  71.910004  ...  634.421250  246.449997   \n",
            "\n",
            "Price      Stock Splits                   Volume                            \n",
            "Ticker             ASML  NEE   PH SBGSF     ASML       NEE       PH  SBGSF  \n",
            "Date                                                                        \n",
            "2021-01-04          0.0  0.0  0.0   0.0  1527600   9388400   615300    300  \n",
            "2021-01-05          0.0  0.0  0.0   0.0  1029900   7339800   621300   1100  \n",
            "2021-01-06          0.0  0.0  0.0   0.0   977900  12155700   861200  11100  \n",
            "2021-01-07          0.0  0.0  0.0   0.0   936200   8816000   856100   5000  \n",
            "2021-01-08          0.0  0.0  0.0   0.0   734500   8376200  1279700   2300  \n",
            "...                 ...  ...  ...   ...      ...       ...      ...    ...  \n",
            "2024-12-23          0.0  0.0  0.0   0.0  1232600   7509000   599400    800  \n",
            "2024-12-24          0.0  0.0  0.0   0.0   586800   3001800   227000   1000  \n",
            "2024-12-26          0.0  0.0  0.0   0.0   734000   4503800   256900    200  \n",
            "2024-12-27          0.0  0.0  0.0   0.0   942300   5458100   392500    300  \n",
            "2024-12-30          0.0  0.0  0.0   0.0  1202600   8399000   337700    800  \n",
            "\n",
            "[1004 rows x 28 columns]\n"
          ]
        },
        {
          "output_type": "stream",
          "name": "stderr",
          "text": [
            "\n"
          ]
        }
      ],
      "source": [
        "tickers = yf.Tickers('ASML NEE PH SBGSF')\n",
        "hist = tickers.history(start='2021-01-01',end='2024-12-31')\n",
        "print('Data:')\n",
        "print(hist)"
      ]
    },
    {
      "cell_type": "code",
      "execution_count": 18,
      "metadata": {
        "colab": {
          "base_uri": "https://localhost:8080/"
        },
        "id": "UcTgfXn1k1R2",
        "outputId": "65ea2c9f-ae12-460b-d0ed-85230b56cec3"
      },
      "outputs": [
        {
          "output_type": "stream",
          "name": "stdout",
          "text": [
            "Adj Close:\n",
            "Ticker            ASML        NEE          PH       SBGSF\n",
            "Date                                                     \n",
            "2021-01-04  482.239594  67.349091  250.678802  137.562943\n",
            "2021-01-05  487.409241  67.848175  256.332855  136.498001\n",
            "2021-01-06  472.807007  71.169342  264.653595  142.646896\n",
            "2021-01-07  483.618835  71.949738  265.134125  143.424774\n",
            "2021-01-08  490.669159  73.619408  264.474579  143.721085\n",
            "...                ...        ...         ...         ...\n",
            "2024-12-23  721.039978  72.489998  644.128357  247.080002\n",
            "2024-12-24  719.710022  72.910004  651.031982  248.800003\n",
            "2024-12-26  715.859985  72.370003  649.884705  256.000000\n",
            "2024-12-27  713.590027  72.110001  642.292664  252.000000\n",
            "2024-12-30  696.150024  71.760002  635.319153  248.500000\n",
            "\n",
            "[1004 rows x 4 columns]\n"
          ]
        }
      ],
      "source": [
        "adj_close = hist['Close']\n",
        "print('Adj Close:')\n",
        "print(adj_close)"
      ]
    },
    {
      "cell_type": "code",
      "execution_count": 19,
      "metadata": {
        "id": "yrMbdB6pk1R2"
      },
      "outputs": [],
      "source": [
        "if os.path.exists('data.xlsx'):\n",
        "    os.remove('data.xlsx')\n",
        "adj_close.to_excel('data.xlsx')"
      ]
    },
    {
      "cell_type": "markdown",
      "metadata": {
        "id": "AtJWXuokk1R2"
      },
      "source": [
        "### 3. Portfolio Analysis"
      ]
    },
    {
      "cell_type": "code",
      "execution_count": 20,
      "metadata": {
        "colab": {
          "base_uri": "https://localhost:8080/"
        },
        "id": "_7q32rpTk1R2",
        "outputId": "1f6d4940-9062-45d7-91c3-51c4a5876756"
      },
      "outputs": [
        {
          "output_type": "stream",
          "name": "stdout",
          "text": [
            "Adj Close values:\n",
            "[[482.2396  67.3491 250.6788 137.5629]\n",
            " [487.4092  67.8482 256.3329 136.498 ]\n",
            " [472.807   71.1693 264.6536 142.6469]\n",
            " ...\n",
            " [715.86    72.37   649.8847 256.    ]\n",
            " [713.59    72.11   642.2927 252.    ]\n",
            " [696.15    71.76   635.3192 248.5   ]]\n",
            "(1004, 4)\n"
          ]
        }
      ],
      "source": [
        "adj_close_values = adj_close.values\n",
        "print('Adj Close values:')\n",
        "print(np.round(adj_close_values,4))\n",
        "print(adj_close_values.shape)"
      ]
    },
    {
      "cell_type": "code",
      "execution_count": 21,
      "metadata": {
        "colab": {
          "base_uri": "https://localhost:8080/"
        },
        "id": "VlHJVZ6Qk1R2",
        "outputId": "90106d7c-820d-49d1-8410-1584aabbf480"
      },
      "outputs": [
        {
          "output_type": "stream",
          "name": "stdout",
          "text": [
            "R:\n",
            "[[ 1.0663  0.7383  2.2304 -0.7772]\n",
            " [-3.0417  4.779   3.1945  4.4062]\n",
            " [ 2.261   1.0906  0.1814  0.5438]\n",
            " ...\n",
            " [-0.5364 -0.7434 -0.1764  2.8528]\n",
            " [-0.3176 -0.3599 -1.1751 -1.5748]\n",
            " [-2.4743 -0.4865 -1.0917 -1.3986]] %\n"
          ]
        }
      ],
      "source": [
        "R = np.log(adj_close_values[1:] / adj_close_values[:-1])\n",
        "print('R:')\n",
        "print(np.round(R*100, 4), '%')"
      ]
    },
    {
      "cell_type": "code",
      "execution_count": 22,
      "metadata": {
        "colab": {
          "base_uri": "https://localhost:8080/"
        },
        "id": "-eRQCrggk1R2",
        "outputId": "91fa008c-363e-475e-b730-69416bd7cd9d"
      },
      "outputs": [
        {
          "output_type": "stream",
          "name": "stdout",
          "text": [
            "RE: [ 9.2239  1.5939 23.3648 14.8577] %\n",
            "RI: [42.184  26.9508 27.6346 34.2982] %\n"
          ]
        }
      ],
      "source": [
        "RE = np.mean(R, axis=0)*252\n",
        "RI = np.std(R, axis=0)*np.sqrt(252)\n",
        "print('RE:', np.round(RE*100, 4), '%')\n",
        "print('RI:', np.round(RI*100, 4), '%')"
      ]
    },
    {
      "cell_type": "code",
      "execution_count": 23,
      "metadata": {
        "colab": {
          "base_uri": "https://localhost:8080/"
        },
        "id": "s-91fTthk1R3",
        "outputId": "1695530c-6754-4b66-b5d4-836aff7bf43a"
      },
      "outputs": [
        {
          "output_type": "stream",
          "name": "stdout",
          "text": [
            "Sharpes: [0.2187 0.0591 0.8455 0.4332]\n"
          ]
        }
      ],
      "source": [
        "Sharpes = RE / RI\n",
        "print('Sharpes:', np.round(Sharpes, 4))"
      ]
    },
    {
      "cell_type": "code",
      "execution_count": 24,
      "metadata": {
        "colab": {
          "base_uri": "https://localhost:8080/"
        },
        "id": "GFo4pKk9k1R3",
        "outputId": "239d4ab7-c6ba-48de-f6be-4a29a32458ba"
      },
      "outputs": [
        {
          "output_type": "stream",
          "name": "stdout",
          "text": [
            "S:\n",
            "[[0.07068503 0.0102608  0.0226113  0.0233615 ]\n",
            " [0.0102608  0.02885193 0.00673317 0.00556545]\n",
            " [0.0226113  0.00673317 0.03033476 0.01366003]\n",
            " [0.0233615  0.00556545 0.01366003 0.04672781]] %\n"
          ]
        }
      ],
      "source": [
        "S = np.cov(R, rowvar=False)\n",
        "print('S:')\n",
        "print(S*100, '%')"
      ]
    },
    {
      "cell_type": "code",
      "execution_count": 25,
      "metadata": {
        "colab": {
          "base_uri": "https://localhost:8080/"
        },
        "id": "Q7VJVaSYk1R3",
        "outputId": "b90b9600-4492-48e4-f120-5802a7482176"
      },
      "outputs": [
        {
          "output_type": "stream",
          "name": "stdout",
          "text": [
            "Correlation:\n",
            "[[1.         0.22721146 0.4883054  0.40648946]\n",
            " [0.22721146 1.         0.2275947  0.15157408]\n",
            " [0.4883054  0.2275947  1.         0.362822  ]\n",
            " [0.40648946 0.15157408 0.362822   1.        ]]\n"
          ]
        }
      ],
      "source": [
        "corr = np.corrcoef(R, rowvar=False)\n",
        "print('Correlation:')\n",
        "print(corr)"
      ]
    },
    {
      "cell_type": "code",
      "execution_count": 26,
      "metadata": {
        "colab": {
          "base_uri": "https://localhost:8080/"
        },
        "id": "GT-yrz6Dk1R3",
        "outputId": "8cde2b79-799c-4b6a-f1e3-2d16199b77d6"
      },
      "outputs": [
        {
          "output_type": "stream",
          "name": "stdout",
          "text": [
            "Weights: [0.25 0.25 0.25 0.25]\n",
            "Sum of weights: 1.0\n"
          ]
        }
      ],
      "source": [
        "n_assets = R.shape[1]\n",
        "weights = np.ones(n_assets) / n_assets\n",
        "print('Weights:', np.round(weights, 4))\n",
        "print('Sum of weights:', np.sum(weights))"
      ]
    },
    {
      "cell_type": "code",
      "execution_count": 27,
      "metadata": {
        "id": "iIbc4dLSk1R3"
      },
      "outputs": [],
      "source": [
        "def rep(w,r):\n",
        "    return w @ np.transpose(r)\n",
        "\n",
        "def varp(w,s):\n",
        "    return w @ s @ np.transpose(w)"
      ]
    },
    {
      "cell_type": "code",
      "execution_count": 28,
      "metadata": {
        "colab": {
          "base_uri": "https://localhost:8080/"
        },
        "id": "feosaSzHk1R3",
        "outputId": "3997870e-a25a-4bb9-a5f0-cc0d09b9a887"
      },
      "outputs": [
        {
          "output_type": "stream",
          "name": "stdout",
          "text": [
            "Portafolio pre-optimización:\n",
            "ReP: 12.2601 %\n",
            "varP: 0.0002\n",
            "RiP: 23.1743 %\n",
            "SharpeP: 0.529\n"
          ]
        }
      ],
      "source": [
        "ReP = rep(weights, RE)\n",
        "varP = varp(weights, S)\n",
        "RiP = np.sqrt(varP)*np.sqrt(252)\n",
        "SharpeP = ReP / RiP\n",
        "print('Portafolio pre-optimización:')\n",
        "print('ReP:', round(ReP*100, 4), '%')\n",
        "print('varP:', round(varP, 4))\n",
        "print('RiP:', round(RiP*100, 4), '%')\n",
        "print('SharpeP:', round(SharpeP, 4))"
      ]
    },
    {
      "cell_type": "markdown",
      "metadata": {
        "id": "bpOqhcW_k1R3"
      },
      "source": [
        "### 4. Portfolio Optimization"
      ]
    },
    {
      "cell_type": "code",
      "execution_count": 29,
      "metadata": {
        "colab": {
          "base_uri": "https://localhost:8080/"
        },
        "id": "07K89xFik1R3",
        "outputId": "09a5fed5-7a51-4bcd-ce72-c218180273a6"
      },
      "outputs": [
        {
          "output_type": "stream",
          "name": "stdout",
          "text": [
            "Optimization terminated successfully    (Exit mode 0)\n",
            "            Current function value: 0.00016461493255230168\n",
            "            Iterations: 19\n",
            "            Function evaluations: 95\n",
            "            Gradient evaluations: 19\n",
            "Éxito: True\n",
            "Mensaje: Optimization terminated successfully\n"
          ]
        }
      ],
      "source": [
        "def constr(w):\n",
        "    return np.sum(w) - 1\n",
        "\n",
        "num_assets = 4\n",
        "bounds = [(0, None)] * num_assets\n",
        "\n",
        "constraints = [{'type': 'eq', 'fun': constr}]\n",
        "\n",
        "res = minimize(\n",
        "    fun=lambda w: varp(w, S),\n",
        "    x0=weights,\n",
        "    method='SLSQP',\n",
        "    bounds=bounds,\n",
        "    constraints=constraints,\n",
        "    options={'disp': True, 'maxiter': 1000, 'ftol': 1e-12}\n",
        ")\n",
        "\n",
        "print(\"Éxito:\", res.success)\n",
        "print(\"Mensaje:\", res.message)\n"
      ]
    },
    {
      "cell_type": "code",
      "execution_count": 30,
      "metadata": {
        "colab": {
          "base_uri": "https://localhost:8080/"
        },
        "id": "_BdVgk8sk1R3",
        "outputId": "72bc5fbd-05ba-4c2b-abb2-10f87e433e6c"
      },
      "outputs": [
        {
          "output_type": "stream",
          "name": "stdout",
          "text": [
            "Portafolio post-optimización:\n",
            "ReP: 11.9074 %\n",
            "varP: 0.0002\n",
            "RiP: 20.3674 %\n",
            "SharpeP: 0.5846\n"
          ]
        }
      ],
      "source": [
        "ReP = rep(res.x, RE)\n",
        "varP = varp(res.x, S)\n",
        "RiP = np.sqrt(varP)*np.sqrt(252)\n",
        "SharpeP = ReP / RiP\n",
        "print('Portafolio post-optimización:')\n",
        "print('ReP:', round(ReP*100, 4), '%')\n",
        "print('varP:', round(varP, 4))\n",
        "print('RiP:', round(RiP*100, 4), '%')\n",
        "print('SharpeP:', round(SharpeP, 4))"
      ]
    }
  ],
  "metadata": {
    "kernelspec": {
      "display_name": "Python 3",
      "language": "python",
      "name": "python3"
    },
    "language_info": {
      "codemirror_mode": {
        "name": "ipython",
        "version": 3
      },
      "file_extension": ".py",
      "mimetype": "text/x-python",
      "name": "python",
      "nbconvert_exporter": "python",
      "pygments_lexer": "ipython3",
      "version": "3.13.0"
    },
    "colab": {
      "provenance": []
    }
  },
  "nbformat": 4,
  "nbformat_minor": 0
}