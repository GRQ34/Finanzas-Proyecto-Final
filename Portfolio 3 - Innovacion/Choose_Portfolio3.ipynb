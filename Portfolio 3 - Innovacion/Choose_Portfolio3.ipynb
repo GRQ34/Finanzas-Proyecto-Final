{
  "cells": [
    {
      "cell_type": "markdown",
      "metadata": {
        "id": "v7WxMIXFlqEV"
      },
      "source": [
        "### 1. Import Libraries"
      ]
    },
    {
      "cell_type": "code",
      "execution_count": 26,
      "metadata": {
        "id": "Tdjis2_flqEW"
      },
      "outputs": [],
      "source": [
        "import yfinance as yf\n",
        "from scipy.optimize import minimize\n",
        "import numpy as np\n",
        "import pandas as pd\n",
        "from itertools import combinations"
      ]
    },
    {
      "cell_type": "markdown",
      "metadata": {
        "id": "s_DTLITTlqEW"
      },
      "source": [
        "### 2. Data Obtention"
      ]
    },
    {
      "cell_type": "code",
      "execution_count": 27,
      "metadata": {
        "colab": {
          "base_uri": "https://localhost:8080/"
        },
        "id": "KNd6BbfNlqEX",
        "outputId": "c98cc782-e909-42a0-cacd-099b021eb27f"
      },
      "outputs": [
        {
          "output_type": "stream",
          "name": "stderr",
          "text": [
            "[*********************100%***********************]  10 of 10 completed\n"
          ]
        }
      ],
      "source": [
        "# Lista de empresas a evaluar\n",
        "tickers_list = ['NEE', 'AMAT', 'ROK', 'ASML', 'SIEGY', 'SBGSF', 'EMR', 'HON', 'PH', 'ETN']\n",
        "\n",
        "# Descargar datos históricos\n",
        "tickers = yf.Tickers(\" \".join(tickers_list))\n",
        "hist = tickers.history(start='2021-01-01',end='2024-12-31')\n",
        "adj_close = hist['Close'].dropna(axis=1, how='any')"
      ]
    },
    {
      "cell_type": "markdown",
      "metadata": {
        "id": "4_1gzmcZlqEY"
      },
      "source": [
        "### 3. Portfolios Analysis"
      ]
    },
    {
      "cell_type": "code",
      "execution_count": 28,
      "metadata": {
        "colab": {
          "base_uri": "https://localhost:8080/"
        },
        "id": "_7NyfvBnlqEY",
        "outputId": "1c2e4bd2-3989-4eb9-f04f-94c5fc376efb"
      },
      "outputs": [
        {
          "output_type": "stream",
          "name": "stdout",
          "text": [
            "                    Activos  ReP (%)  RiP (%)  SharpeP\n",
            "0    (ASML, NEE, PH, SBGSF)  11.9074  20.3674   0.5846\n",
            "1   (AMAT, EMR, NEE, SBGSF)   9.2051  19.3905   0.4747\n",
            "2   (ASML, EMR, NEE, SBGSF)   9.2051  19.3905   0.4747\n",
            "3   (AMAT, EMR, NEE, SIEGY)   8.4092  19.4690   0.4319\n",
            "4   (AMAT, HON, ROK, SBGSF)   6.0319  19.1593   0.3148\n",
            "5   (ASML, HON, ROK, SBGSF)   6.0319  19.1593   0.3148\n",
            "6   (AMAT, NEE, ROK, SBGSF)   6.1207  20.9712   0.2919\n",
            "7   (AMAT, HON, NEE, SBGSF)   5.0241  17.8664   0.2812\n",
            "8   (ASML, HON, NEE, SBGSF)   5.0234  17.8664   0.2812\n",
            "9    (HON, NEE, ROK, SBGSF)   4.9890  17.8225   0.2799\n",
            "10  (AMAT, HON, ROK, SIEGY)   5.3915  19.3537   0.2786\n",
            "11  (ASML, NEE, ROK, SBGSF)   5.7588  21.0303   0.2738\n",
            "12  (AMAT, NEE, ROK, SIEGY)   5.3281  20.9426   0.2544\n",
            "13  (AMAT, HON, NEE, SIEGY)   4.4689  17.9866   0.2485\n",
            "14   (HON, NEE, ROK, SIEGY)   4.4472  17.9626   0.2476\n",
            "15    (AMAT, HON, NEE, ROK)   3.7800  18.3367   0.2061\n",
            "16    (ASML, HON, NEE, ROK)   3.5743  18.3489   0.1948\n",
            "\n",
            "Resultados guardados en 'mejores_portafolios.xlsx'\n"
          ]
        }
      ],
      "source": [
        "# Función para calcular métricas del portafolio\n",
        "def calcular_metricas(adj_close_values):\n",
        "    R = np.log(adj_close_values[1:] / adj_close_values[:-1])  # Retornos logarítmicos\n",
        "    RE = np.mean(R, axis=0) * 252  # Retorno esperado anualizado\n",
        "    RI = np.std(R, axis=0) * np.sqrt(252)  # Riesgo anualizado\n",
        "    S = np.cov(R, rowvar=False)  # Matriz de covarianza\n",
        "    corr = np.corrcoef(R, rowvar=False)  # Matriz de correlación\n",
        "    return RE, RI, S, corr\n",
        "\n",
        "# Obtener métricas generales\n",
        "adj_close_values = adj_close.values\n",
        "RE, RI, S, correlation_matrix = calcular_metricas(adj_close_values)\n",
        "\n",
        "# Evaluar todas las combinaciones posibles de 4 activos\n",
        "mejores_portafolios = []\n",
        "for subset in combinations(adj_close.columns, 4):\n",
        "    indices = [adj_close.columns.get_loc(ticker) for ticker in subset]\n",
        "    corr_submatrix = correlation_matrix[np.ix_(indices, indices)]\n",
        "\n",
        "    # Filtrar combinaciones con correlación > 0.5\n",
        "    if np.any(np.triu(corr_submatrix, k=1) > 0.5):\n",
        "        continue  # Saltar esta combinación\n",
        "\n",
        "    # Extraer datos de la combinación aceptable\n",
        "    RE_sub = RE[indices]\n",
        "    S_sub = S[np.ix_(indices, indices)]\n",
        "    weights = np.ones(4) / 4  # Pesos iniciales iguales\n",
        "\n",
        "    # Definir restricciones y límites\n",
        "    constraints = [{'type': 'eq', 'fun': lambda w: np.sum(w) - 1}]\n",
        "    bounds = [(0, None)] * 4\n",
        "\n",
        "    # Optimizar el portafolio\n",
        "    res = minimize(lambda w: w @ S_sub @ w.T, x0=weights, method='SLSQP', bounds=bounds, constraints=constraints, options={'disp': False, 'maxiter': 1000, 'ftol': 1e-12})\n",
        "\n",
        "    if res.success:\n",
        "        # Calcular métricas del portafolio optimizado\n",
        "        ReP = res.x @ RE_sub.T\n",
        "        varP = res.x @ S_sub @ res.x.T\n",
        "        RiP = np.sqrt(varP)*np.sqrt(252)\n",
        "        SharpeP = ReP / RiP\n",
        "\n",
        "        # Guardar resultados\n",
        "        mejores_portafolios.append({\n",
        "            \"Activos\": subset,\n",
        "            \"ReP (%)\": round(ReP * 100, 4),\n",
        "            \"RiP (%)\": round(RiP * 100, 4),\n",
        "            \"SharpeP\": round(SharpeP, 4)\n",
        "        })\n",
        "\n",
        "# Ordenar por el mejor Sharpe Ratio\n",
        "mejores_portafolios = sorted(mejores_portafolios, key=lambda x: x[\"SharpeP\"], reverse=True)\n",
        "\n",
        "# Convertir a DataFrame y mostrar los resultados\n",
        "df_resultados = pd.DataFrame(mejores_portafolios)\n",
        "print(df_resultados)\n",
        "\n",
        "# Guardar en un archivo Excel\n",
        "df_resultados.to_excel(\"mejores_portafolios.xlsx\", index=False)\n",
        "print(\"\\nResultados guardados en 'mejores_portafolios.xlsx'\")"
      ]
    }
  ],
  "metadata": {
    "kernelspec": {
      "display_name": "Python 3",
      "language": "python",
      "name": "python3"
    },
    "language_info": {
      "codemirror_mode": {
        "name": "ipython",
        "version": 3
      },
      "file_extension": ".py",
      "mimetype": "text/x-python",
      "name": "python",
      "nbconvert_exporter": "python",
      "pygments_lexer": "ipython3",
      "version": "3.13.0"
    },
    "colab": {
      "provenance": []
    }
  },
  "nbformat": 4,
  "nbformat_minor": 0
}