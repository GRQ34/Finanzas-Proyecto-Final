{
  "cells": [
    {
      "cell_type": "markdown",
      "metadata": {
        "id": "bXumEJpUk1R0"
      },
      "source": [
        "### 1. Import Libraries"
      ]
    },
    {
      "cell_type": "code",
      "execution_count": null,
      "metadata": {
        "id": "9Ifmu_HOk1R1"
      },
      "outputs": [],
      "source": [
        "import yfinance as yf\n",
        "from scipy.optimize import minimize\n",
        "import numpy as np\n",
        "import os"
      ]
    },
    {
      "cell_type": "markdown",
      "metadata": {
        "id": "CxSYTNC8k1R1"
      },
      "source": [
        "### 2. Data Obtention"
      ]
    },
    {
      "cell_type": "code",
      "execution_count": null,
      "metadata": {
        "colab": {
          "base_uri": "https://localhost:8080/"
        },
        "id": "kgSSnNQ4k1R2",
        "outputId": "b5a1d162-2eb5-45e7-8d8f-0659a408f472"
      },
      "outputs": [
        {
          "output_type": "stream",
          "name": "stderr",
          "text": [
            "[*********************100%***********************]  4 of 4 completed"
          ]
        },
        {
          "output_type": "stream",
          "name": "stdout",
          "text": [
            "Data:\n",
            "Price       Close                                   Dividends                  \\\n",
            "Ticker       ACNT        FRD        MSB          RS      ACNT   FRD  MSB   RS   \n",
            "Date                                                                            \n",
            "2021-01-04   8.00   6.512208  16.668919  112.135773       0.0  0.00  0.0  0.0   \n",
            "2021-01-05   8.01   6.676218  17.464701  115.348763       0.0  0.00  0.0  0.0   \n",
            "2021-01-06   8.25   6.801639  17.495073  122.748901       0.0  0.00  0.0  0.0   \n",
            "2021-01-07   8.73   6.927416  17.173115  124.060326       0.0  0.02  0.0  0.0   \n",
            "2021-01-08   8.95   6.937090  16.772184  122.983070       0.0  0.00  0.0  0.0   \n",
            "...           ...        ...        ...         ...       ...   ...  ...  ...   \n",
            "2024-12-23  11.01  15.884322  22.506735  270.079987       0.0  0.00  0.0  0.0   \n",
            "2024-12-24  11.01  15.804552  23.372063  270.980011       0.0  0.00  0.0  0.0   \n",
            "2024-12-26  11.36  15.814523  23.569851  271.299988       0.0  0.00  0.0  0.0   \n",
            "2024-12-27  11.28  15.525354  22.877588  269.730011       0.0  0.00  0.0  0.0   \n",
            "2024-12-30  11.25  15.016817  23.174273  266.220001       0.0  0.00  0.0  0.0   \n",
            "\n",
            "Price        High             ...       Open             Stock Splits       \\\n",
            "Ticker       ACNT        FRD  ...        MSB          RS         ACNT  FRD   \n",
            "Date                          ...                                            \n",
            "2021-01-04   8.07   6.734105  ...  17.100220  114.074800          0.0  0.0   \n",
            "2021-01-05   8.28   6.676218  ...  16.529200  112.145152          0.0  0.0   \n",
            "2021-01-06   8.35   7.042832  ...  17.501148  118.383750          0.0  0.0   \n",
            "2021-01-07   8.78   6.956442  ...  17.640865  123.816767          0.0  0.0   \n",
            "2021-01-08   8.98   6.956441  ...  17.136664  122.093181          0.0  0.0   \n",
            "...           ...        ...  ...        ...         ...          ...  ...   \n",
            "2024-12-23  11.33  16.432744  ...  22.745731  268.250000          0.0  0.0   \n",
            "2024-12-24  11.23  15.994008  ...  22.753972  270.429993          0.0  0.0   \n",
            "2024-12-26  11.40  15.994008  ...  23.339097  268.809998          0.0  0.0   \n",
            "2024-12-27  11.49  15.934179  ...  23.446232  269.609985          0.0  0.0   \n",
            "2024-12-30  11.39  15.555269  ...  22.869347  267.809998          0.0  0.0   \n",
            "\n",
            "Price                Volume                        \n",
            "Ticker      MSB   RS   ACNT    FRD    MSB      RS  \n",
            "Date                                               \n",
            "2021-01-04  0.0  0.0  35100  12700  28000  266000  \n",
            "2021-01-05  0.0  0.0  16800  10700  27300  351700  \n",
            "2021-01-06  0.0  0.0  32200  59800  99000  748800  \n",
            "2021-01-07  0.0  0.0  31700  15300  53500  637800  \n",
            "2021-01-08  0.0  0.0  36800  22200  51700  591500  \n",
            "...         ...  ...    ...    ...    ...     ...  \n",
            "2024-12-23  0.0  0.0  22900   9400  17400  404000  \n",
            "2024-12-24  0.0  0.0  25300   1000  14600  131600  \n",
            "2024-12-26  0.0  0.0  38900   5500  12500  333700  \n",
            "2024-12-27  0.0  0.0  29700   5700  16800  304200  \n",
            "2024-12-30  0.0  0.0  16500   5500  38300  279900  \n",
            "\n",
            "[1004 rows x 28 columns]\n"
          ]
        },
        {
          "output_type": "stream",
          "name": "stderr",
          "text": [
            "\n"
          ]
        }
      ],
      "source": [
        "tickers = yf.Tickers('ACNT FRD MSB RS')\n",
        "hist = tickers.history(start='2021-01-01',end='2024-12-31')\n",
        "print('Data:')\n",
        "print(hist)"
      ]
    },
    {
      "cell_type": "code",
      "execution_count": null,
      "metadata": {
        "colab": {
          "base_uri": "https://localhost:8080/"
        },
        "id": "UcTgfXn1k1R2",
        "outputId": "78def071-eb0d-4353-ce9d-4d6edb0c8fc2"
      },
      "outputs": [
        {
          "output_type": "stream",
          "name": "stdout",
          "text": [
            "Adj Close:\n",
            "Ticker       ACNT        FRD        MSB          RS\n",
            "Date                                               \n",
            "2021-01-04   8.00   6.512208  16.668919  112.135773\n",
            "2021-01-05   8.01   6.676218  17.464701  115.348763\n",
            "2021-01-06   8.25   6.801639  17.495073  122.748901\n",
            "2021-01-07   8.73   6.927416  17.173115  124.060326\n",
            "2021-01-08   8.95   6.937090  16.772184  122.983070\n",
            "...           ...        ...        ...         ...\n",
            "2024-12-23  11.01  15.884322  22.506735  270.079987\n",
            "2024-12-24  11.01  15.804552  23.372063  270.980011\n",
            "2024-12-26  11.36  15.814523  23.569851  271.299988\n",
            "2024-12-27  11.28  15.525354  22.877588  269.730011\n",
            "2024-12-30  11.25  15.016817  23.174273  266.220001\n",
            "\n",
            "[1004 rows x 4 columns]\n"
          ]
        }
      ],
      "source": [
        "adj_close = hist['Close']\n",
        "print('Adj Close:')\n",
        "print(adj_close)"
      ]
    },
    {
      "cell_type": "code",
      "execution_count": null,
      "metadata": {
        "id": "yrMbdB6pk1R2"
      },
      "outputs": [],
      "source": [
        "if os.path.exists('data.xlsx'):\n",
        "    os.remove('data.xlsx')\n",
        "adj_close.to_excel('data.xlsx')"
      ]
    },
    {
      "cell_type": "markdown",
      "metadata": {
        "id": "AtJWXuokk1R2"
      },
      "source": [
        "### 3. Portfolio Analysis"
      ]
    },
    {
      "cell_type": "code",
      "execution_count": null,
      "metadata": {
        "colab": {
          "base_uri": "https://localhost:8080/"
        },
        "id": "_7q32rpTk1R2",
        "outputId": "32464d7a-3359-4739-86eb-1244e87510e3"
      },
      "outputs": [
        {
          "output_type": "stream",
          "name": "stdout",
          "text": [
            "Adj Close values:\n",
            "[[  8.       6.5122  16.6689 112.1358]\n",
            " [  8.01     6.6762  17.4647 115.3488]\n",
            " [  8.25     6.8016  17.4951 122.7489]\n",
            " ...\n",
            " [ 11.36    15.8145  23.5699 271.3   ]\n",
            " [ 11.28    15.5254  22.8776 269.73  ]\n",
            " [ 11.25    15.0168  23.1743 266.22  ]]\n",
            "(1004, 4)\n"
          ]
        }
      ],
      "source": [
        "adj_close_values = adj_close.values\n",
        "print('Adj Close values:')\n",
        "print(np.round(adj_close_values,4))\n",
        "print(adj_close_values.shape)"
      ]
    },
    {
      "cell_type": "code",
      "execution_count": null,
      "metadata": {
        "colab": {
          "base_uri": "https://localhost:8080/"
        },
        "id": "VlHJVZ6Qk1R2",
        "outputId": "faeced4c-88d5-49aa-a9f5-06d3da8278ac"
      },
      "outputs": [
        {
          "output_type": "stream",
          "name": "stdout",
          "text": [
            "R:\n",
            "[[ 0.1249  2.4873  4.6636  2.825 ]\n",
            " [ 2.9522  1.8612  0.1738  6.2181]\n",
            " [ 5.6552  1.8323 -1.8574  1.0627]\n",
            " ...\n",
            " [ 3.1294  0.0631  0.8427  0.118 ]\n",
            " [-0.7067 -1.8454 -2.9811 -0.5804]\n",
            " [-0.2663 -3.3304  1.2885 -1.3098]] %\n"
          ]
        }
      ],
      "source": [
        "R = np.log(adj_close_values[1:] / adj_close_values[:-1])\n",
        "print('R:')\n",
        "print(np.round(R*100, 4), '%')"
      ]
    },
    {
      "cell_type": "code",
      "execution_count": null,
      "metadata": {
        "colab": {
          "base_uri": "https://localhost:8080/"
        },
        "id": "-eRQCrggk1R2",
        "outputId": "03ceed41-fabf-4d96-8488-1626f8eadfc7"
      },
      "outputs": [
        {
          "output_type": "stream",
          "name": "stdout",
          "text": [
            "RE: [ 8.5657 20.9914  8.2785 21.7231] %\n",
            "RI: [46.0564 55.4292 48.4815 28.9737] %\n"
          ]
        }
      ],
      "source": [
        "RE = np.mean(R, axis=0)*252\n",
        "RI = np.std(R, axis=0)*np.sqrt(252)\n",
        "print('RE:', np.round(RE*100, 4), '%')\n",
        "print('RI:', np.round(RI*100, 4), '%')"
      ]
    },
    {
      "cell_type": "code",
      "execution_count": null,
      "metadata": {
        "colab": {
          "base_uri": "https://localhost:8080/"
        },
        "id": "s-91fTthk1R3",
        "outputId": "18c26e21-37b1-4714-aef8-332d32e136ef"
      },
      "outputs": [
        {
          "output_type": "stream",
          "name": "stdout",
          "text": [
            "Sharpes: [0.186  0.3787 0.1708 0.7498]\n"
          ]
        }
      ],
      "source": [
        "Sharpes = RE / RI\n",
        "print('Sharpes:', np.round(Sharpes, 4))"
      ]
    },
    {
      "cell_type": "code",
      "execution_count": null,
      "metadata": {
        "colab": {
          "base_uri": "https://localhost:8080/"
        },
        "id": "GFo4pKk9k1R3",
        "outputId": "26e7a6df-257f-4f97-e59e-b8219e63d2ac"
      },
      "outputs": [
        {
          "output_type": "stream",
          "name": "stdout",
          "text": [
            "S:\n",
            "[[0.08425811 0.01775079 0.01326316 0.01164957]\n",
            " [0.01775079 0.1220422  0.01306287 0.01542646]\n",
            " [0.01326316 0.01306287 0.09336495 0.01302366]\n",
            " [0.01164957 0.01542646 0.01302366 0.03334587]] %\n"
          ]
        }
      ],
      "source": [
        "S = np.cov(R, rowvar=False)\n",
        "print('S:')\n",
        "print(S*100, '%')"
      ]
    },
    {
      "cell_type": "code",
      "execution_count": null,
      "metadata": {
        "colab": {
          "base_uri": "https://localhost:8080/"
        },
        "id": "Q7VJVaSYk1R3",
        "outputId": "d30e9257-790f-423c-aa46-7f416adbf799"
      },
      "outputs": [
        {
          "output_type": "stream",
          "name": "stdout",
          "text": [
            "Correlation:\n",
            "[[1.         0.17504791 0.14953717 0.21977742]\n",
            " [0.17504791 1.         0.1223747  0.24181889]\n",
            " [0.14953717 0.1223747  1.         0.23341031]\n",
            " [0.21977742 0.24181889 0.23341031 1.        ]]\n"
          ]
        }
      ],
      "source": [
        "corr = np.corrcoef(R, rowvar=False)\n",
        "print('Correlation:')\n",
        "print(corr)"
      ]
    },
    {
      "cell_type": "code",
      "execution_count": null,
      "metadata": {
        "colab": {
          "base_uri": "https://localhost:8080/"
        },
        "id": "GT-yrz6Dk1R3",
        "outputId": "ccaaf33b-077c-4eb0-d92b-6f7a71133551"
      },
      "outputs": [
        {
          "output_type": "stream",
          "name": "stdout",
          "text": [
            "Weights: [0.25 0.25 0.25 0.25]\n",
            "Sum of weights: 1.0\n"
          ]
        }
      ],
      "source": [
        "n_assets = R.shape[1]\n",
        "weights = np.ones(n_assets) / n_assets\n",
        "print('Weights:', np.round(weights, 4))\n",
        "print('Sum of weights:', np.sum(weights))"
      ]
    },
    {
      "cell_type": "code",
      "execution_count": null,
      "metadata": {
        "id": "iIbc4dLSk1R3"
      },
      "outputs": [],
      "source": [
        "def rep(w,r):\n",
        "    return w @ np.transpose(r)\n",
        "\n",
        "def varp(w,s):\n",
        "    return w @ s @ np.transpose(w)"
      ]
    },
    {
      "cell_type": "code",
      "execution_count": null,
      "metadata": {
        "colab": {
          "base_uri": "https://localhost:8080/"
        },
        "id": "feosaSzHk1R3",
        "outputId": "802cf435-3694-4a56-b69f-5f6f88514656"
      },
      "outputs": [
        {
          "output_type": "stream",
          "name": "stdout",
          "text": [
            "Portafolio pre-optimización:\n",
            "ReP: 14.8897 %\n",
            "varP: 0.0003\n",
            "RiP: 28.1007 %\n",
            "SharpeP: 0.5299\n"
          ]
        }
      ],
      "source": [
        "ReP = rep(weights, RE)\n",
        "varP = varp(weights, S)\n",
        "RiP = np.sqrt(varP)*np.sqrt(252)\n",
        "SharpeP = ReP / RiP\n",
        "print('Portafolio pre-optimización:')\n",
        "print('ReP:', round(ReP*100, 4), '%')\n",
        "print('varP:', round(varP, 4))\n",
        "print('RiP:', round(RiP*100, 4), '%')\n",
        "print('SharpeP:', round(SharpeP, 4))"
      ]
    },
    {
      "cell_type": "markdown",
      "metadata": {
        "id": "bpOqhcW_k1R3"
      },
      "source": [
        "### 4. Portfolio Optimization"
      ]
    },
    {
      "cell_type": "code",
      "execution_count": null,
      "metadata": {
        "colab": {
          "base_uri": "https://localhost:8080/"
        },
        "id": "07K89xFik1R3",
        "outputId": "77b26858-97bc-43ba-a4cb-279766eef3a1"
      },
      "outputs": [
        {
          "output_type": "stream",
          "name": "stdout",
          "text": [
            "Optimization terminated successfully    (Exit mode 0)\n",
            "            Current function value: 0.0002498381415269466\n",
            "            Iterations: 19\n",
            "            Function evaluations: 95\n",
            "            Gradient evaluations: 19\n",
            "Éxito: True\n",
            "Mensaje: Optimization terminated successfully\n"
          ]
        }
      ],
      "source": [
        "def constr(w):\n",
        "    return np.sum(w) - 1\n",
        "\n",
        "num_assets = 4\n",
        "bounds = [(0, None)] * num_assets\n",
        "\n",
        "constraints = [{'type': 'eq', 'fun': constr}]\n",
        "\n",
        "res = minimize(\n",
        "    fun=lambda w: varp(w, S),\n",
        "    x0=weights,\n",
        "    method='SLSQP',\n",
        "    bounds=bounds,\n",
        "    constraints=constraints,\n",
        "    options={'disp': True, 'maxiter': 1000, 'ftol': 1e-12}\n",
        ")\n",
        "\n",
        "print(\"Éxito:\", res.success)\n",
        "print(\"Mensaje:\", res.message)\n"
      ]
    },
    {
      "cell_type": "code",
      "execution_count": null,
      "metadata": {
        "colab": {
          "base_uri": "https://localhost:8080/"
        },
        "id": "_BdVgk8sk1R3",
        "outputId": "989613e0-78dc-40a6-b419-2508d8995ebb"
      },
      "outputs": [
        {
          "output_type": "stream",
          "name": "stdout",
          "text": [
            "Portafolio post-optimización:\n",
            "ReP: 17.3895 %\n",
            "varP: 0.0002\n",
            "RiP: 25.0917 %\n",
            "SharpeP: 0.693\n"
          ]
        }
      ],
      "source": [
        "ReP = rep(res.x, RE)\n",
        "varP = varp(res.x, S)\n",
        "RiP = np.sqrt(varP)*np.sqrt(252)\n",
        "SharpeP = ReP / RiP\n",
        "print('Portafolio post-optimización:')\n",
        "print('ReP:', round(ReP*100, 4), '%')\n",
        "print('varP:', round(varP, 4))\n",
        "print('RiP:', round(RiP*100, 4), '%')\n",
        "print('SharpeP:', round(SharpeP, 4))"
      ]
    }
  ],
  "metadata": {
    "kernelspec": {
      "display_name": "Python 3",
      "language": "python",
      "name": "python3"
    },
    "language_info": {
      "codemirror_mode": {
        "name": "ipython",
        "version": 3
      },
      "file_extension": ".py",
      "mimetype": "text/x-python",
      "name": "python",
      "nbconvert_exporter": "python",
      "pygments_lexer": "ipython3",
      "version": "3.13.0"
    },
    "colab": {
      "provenance": []
    }
  },
  "nbformat": 4,
  "nbformat_minor": 0
}