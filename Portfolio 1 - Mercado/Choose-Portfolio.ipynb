{
 "cells": [
  {
   "cell_type": "markdown",
   "metadata": {},
   "source": [
    "### 1. Import Libraries"
   ]
  },
  {
   "cell_type": "code",
   "execution_count": 7,
   "metadata": {},
   "outputs": [],
   "source": [
    "import yfinance as yf\n",
    "from scipy.optimize import minimize\n",
    "import numpy as np\n",
    "import pandas as pd\n",
    "from itertools import combinations"
   ]
  },
  {
   "cell_type": "markdown",
   "metadata": {},
   "source": [
    "### 2. Data Obtention"
   ]
  },
  {
   "cell_type": "code",
   "execution_count": 8,
   "metadata": {},
   "outputs": [
    {
     "name": "stderr",
     "output_type": "stream",
     "text": [
      "[*********************100%***********************]  12 of 12 completed"
     ]
    },
    {
     "name": "stdout",
     "output_type": "stream",
     "text": [
      "Ticker       ACNT        CLF        CMC        FRD        MSB   MTUS  \\\n",
      "Date                                                                   \n",
      "2021-01-04   8.00  14.420000  19.221788   6.512207  16.668919   4.84   \n",
      "2021-01-05   8.01  15.700000  19.898546   6.676219  17.464701   5.17   \n",
      "2021-01-06   8.25  17.420000  22.079210   6.801640  17.495071   5.56   \n",
      "2021-01-07   8.73  17.670000  21.806627   6.927416  17.173117   5.64   \n",
      "2021-01-08   8.95  18.040001  21.205065   6.937091  16.772188   5.69   \n",
      "...           ...        ...        ...        ...        ...    ...   \n",
      "2024-12-23  11.01   9.370000  49.606380  15.884322  22.506735  14.12   \n",
      "2024-12-24  11.01   9.460000  50.323872  15.804552  23.372063  14.27   \n",
      "2024-12-26  11.36   9.350000  50.891884  15.814523  23.569851  14.31   \n",
      "2024-12-27  11.28   9.240000  49.935230  15.525354  22.877588  14.09   \n",
      "2024-12-30  11.25   9.300000  49.048336  15.016817  23.174273  13.73   \n",
      "\n",
      "Ticker             NUE       RDUS          RS        STLD          X  \\\n",
      "Date                                                                   \n",
      "2021-01-04   49.366802  28.839132  112.135773   34.307831  16.700003   \n",
      "2021-01-05   50.833424  31.229797  115.348755   35.553860  17.732788   \n",
      "2021-01-06   53.606838  34.482540  122.748932   38.064640  20.772694   \n",
      "2021-01-07   52.826523  34.846920  124.060310   37.333885  19.925026   \n",
      "2021-01-08   52.666702  33.042801  122.983093   36.996620  21.717791   \n",
      "...                ...        ...         ...         ...        ...   \n",
      "2024-12-23  116.056442  15.286900  270.079987  115.282112  31.327587   \n",
      "2024-12-24  116.872551  15.365646  270.980011  116.586815  31.926773   \n",
      "2024-12-26  118.076805  15.414865  271.299988  116.616692  30.958086   \n",
      "2024-12-27  116.723259  14.991595  269.730011  115.302032  31.097897   \n",
      "2024-12-30  115.310005  14.765196  266.220001  113.339996  30.988047   \n",
      "\n",
      "Ticker           ZEUS  \n",
      "Date                   \n",
      "2021-01-04  13.630717  \n",
      "2021-01-05  14.488053  \n",
      "2021-01-06  15.701811  \n",
      "2021-01-07  15.509156  \n",
      "2021-01-08  14.468789  \n",
      "...               ...  \n",
      "2024-12-23  33.389999  \n",
      "2024-12-24  33.520000  \n",
      "2024-12-26  33.430000  \n",
      "2024-12-27  32.660000  \n",
      "2024-12-30  32.459999  \n",
      "\n",
      "[1004 rows x 12 columns]\n"
     ]
    },
    {
     "name": "stderr",
     "output_type": "stream",
     "text": [
      "\n"
     ]
    }
   ],
   "source": [
    "# Lista de empresas a evaluar\n",
    "tickers_list = ['CLF', 'NUE', 'ZEUS', 'STLD', 'RS', 'MTUS', 'FRD', 'X', 'MSB', 'CMC', 'ACNT', 'RDUS']\n",
    "\n",
    "# Descargar datos históricos\n",
    "tickers = yf.Tickers(\" \".join(tickers_list))\n",
    "hist = tickers.history(start='2021-01-01',end='2024-12-31')\n",
    "adj_close = hist['Close'].dropna(axis=1)  # Eliminar valores NaN\n",
    "print(adj_close)"
   ]
  },
  {
   "cell_type": "markdown",
   "metadata": {},
   "source": [
    "### 3. Portfolios Analysis"
   ]
  },
  {
   "cell_type": "code",
   "execution_count": 9,
   "metadata": {},
   "outputs": [
    {
     "name": "stdout",
     "output_type": "stream",
     "text": [
      "                   Activos  ReP (%)  RiP (%)  SharpeP\n",
      "0     (ACNT, FRD, MSB, RS)  17.3895   1.5806  11.0017\n",
      "1   (ACNT, FRD, MSB, STLD)  18.0853   1.8416   9.8207\n",
      "2    (ACNT, CMC, FRD, MSB)  16.3599   1.7800   9.1911\n",
      "3    (ACNT, FRD, MSB, NUE)  14.9913   1.8251   8.2140\n",
      "4   (ACNT, FRD, MSB, MTUS)  13.4665   2.0004   6.7318\n",
      "5   (ACNT, FRD, MSB, ZEUS)  12.8674   2.0018   6.4279\n",
      "6      (ACNT, FRD, MSB, X)  12.1779   1.9690   6.1848\n",
      "7    (ACNT, CLF, FRD, MSB)   8.2876   1.9945   4.1553\n",
      "8      (FRD, MSB, RDUS, X)   7.4109   2.1462   3.4530\n",
      "9     (ACNT, FRD, RDUS, X)   6.9768   2.1134   3.3013\n",
      "10  (ACNT, FRD, MSB, RDUS)   5.9856   1.9616   3.0514\n",
      "11    (ACNT, MSB, RDUS, X)   4.8278   2.0367   2.3705\n",
      "\n",
      "Resultados guardados en 'mejores_portafolios.xlsx'\n"
     ]
    }
   ],
   "source": [
    "# Función para calcular métricas del portafolio\n",
    "def calcular_metricas(adj_close_values):\n",
    "    R = np.log(adj_close_values[1:] / adj_close_values[:-1])  # Retornos logarítmicos\n",
    "    RE = np.mean(R, axis=0) * 252  # Retorno esperado anualizado\n",
    "    RI = np.std(R, axis=0) * np.sqrt(252)  # Riesgo anualizado\n",
    "    S = np.cov(R, rowvar=False)  # Matriz de covarianza\n",
    "    corr = np.corrcoef(R, rowvar=False)  # Matriz de correlación\n",
    "    return RE, RI, S, corr\n",
    "\n",
    "# Obtener métricas generales\n",
    "adj_close_values = adj_close.values\n",
    "RE, RI, S, correlation_matrix = calcular_metricas(adj_close_values)\n",
    "\n",
    "# Evaluar todas las combinaciones posibles de 4 activos\n",
    "mejores_portafolios = []\n",
    "for subset in combinations(adj_close.columns, 4):\n",
    "    indices = [adj_close.columns.get_loc(ticker) for ticker in subset]\n",
    "    corr_submatrix = correlation_matrix[np.ix_(indices, indices)]\n",
    "\n",
    "    # Filtrar combinaciones con correlación > 0.5\n",
    "    if np.any(np.abs(np.triu(corr_submatrix, k=1)) > 0.5):\n",
    "        continue\n",
    "\n",
    "    # Extraer datos de la combinación aceptable\n",
    "    RE_sub = RE[indices]\n",
    "    S_sub = S[np.ix_(indices, indices)]\n",
    "    weights = np.ones(4) / 4  # Pesos iniciales iguales\n",
    "\n",
    "    # Definir restricciones y límites\n",
    "    constraints = [{'type': 'eq', 'fun': lambda w: np.sum(w) - 1}]\n",
    "    bounds = [(0, None)] * 4\n",
    "\n",
    "    # Optimizar el portafolio\n",
    "    res = minimize(lambda w: w @ S_sub @ w.T, x0=weights, method='SLSQP', bounds=bounds, constraints=constraints, options={'disp': False, 'maxiter': 1000, 'ftol': 1e-12})\n",
    "\n",
    "    if res.success:\n",
    "        # Calcular métricas del portafolio optimizado\n",
    "        ReP = res.x @ RE_sub.T\n",
    "        varP = res.x @ S_sub @ res.x.T\n",
    "        RiP = np.sqrt(varP)\n",
    "        SharpeP = ReP / RiP\n",
    "\n",
    "        # Guardar resultados\n",
    "        mejores_portafolios.append({\n",
    "            \"Activos\": subset,\n",
    "            \"ReP (%)\": round(ReP * 100, 4),\n",
    "            \"RiP (%)\": round(RiP * 100, 4),\n",
    "            \"SharpeP\": round(SharpeP, 4)\n",
    "        })\n",
    "\n",
    "# Ordenar por el mejor Sharpe Ratio\n",
    "mejores_portafolios = sorted(mejores_portafolios, key=lambda x: x[\"SharpeP\"], reverse=True)\n",
    "\n",
    "# Convertir a DataFrame y mostrar los resultados\n",
    "df_resultados = pd.DataFrame(mejores_portafolios)\n",
    "print(df_resultados)\n",
    "\n",
    "# Guardar en un archivo Excel\n",
    "df_resultados.to_excel(\"mejores_portafolios.xlsx\", index=False)\n",
    "print(\"\\nResultados guardados en 'mejores_portafolios.xlsx'\")"
   ]
  }
 ],
 "metadata": {
  "kernelspec": {
   "display_name": "Python 3",
   "language": "python",
   "name": "python3"
  },
  "language_info": {
   "codemirror_mode": {
    "name": "ipython",
    "version": 3
   },
   "file_extension": ".py",
   "mimetype": "text/x-python",
   "name": "python",
   "nbconvert_exporter": "python",
   "pygments_lexer": "ipython3",
   "version": "3.13.0"
  }
 },
 "nbformat": 4,
 "nbformat_minor": 2
}
