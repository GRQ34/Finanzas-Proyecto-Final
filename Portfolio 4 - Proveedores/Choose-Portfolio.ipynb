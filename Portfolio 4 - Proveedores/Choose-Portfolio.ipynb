{
 "cells": [
  {
   "cell_type": "markdown",
   "metadata": {},
   "source": [
    "### 1. Import Libraries"
   ]
  },
  {
   "cell_type": "code",
   "execution_count": 10,
   "metadata": {},
   "outputs": [],
   "source": [
    "import yfinance as yf\n",
    "from scipy.optimize import minimize\n",
    "import numpy as np\n",
    "import pandas as pd\n",
    "from itertools import combinations"
   ]
  },
  {
   "cell_type": "markdown",
   "metadata": {},
   "source": [
    "### 2. Data Obtention"
   ]
  },
  {
   "cell_type": "code",
   "execution_count": 11,
   "metadata": {},
   "outputs": [
    {
     "name": "stdout",
     "output_type": "stream",
     "text": [
      "VALE tiene datos\n",
      "BHP tiene datos\n",
      "RIO tiene datos\n",
      "SCCO tiene datos\n",
      "BTU tiene datos\n",
      "AMR tiene datos\n",
      "AES tiene datos\n",
      "UNP tiene datos\n",
      "CNI tiene datos\n"
     ]
    },
    {
     "name": "stderr",
     "output_type": "stream",
     "text": [
      "[*********************100%***********************]  9 of 9 completed"
     ]
    },
    {
     "name": "stdout",
     "output_type": "stream",
     "text": [
      "Ticker            AES  AMR        BHP       BTU         CNI        RIO  \\\n",
      "Date                                                                     \n",
      "2021-01-04  20.197660  NaN  51.894207  2.860808  105.250114  54.546722   \n",
      "2021-01-05  20.875549  NaN  53.550819  3.337609  106.662041  55.864761   \n",
      "2021-01-06  21.709871  NaN  55.253662  3.201380  108.506165  58.359848   \n",
      "2021-01-07  21.492601  NaN  56.386311  3.181919  109.236137  60.601196   \n",
      "2021-01-08  22.092270  NaN  56.602058  3.123535  111.474075  61.101631   \n",
      "\n",
      "Ticker           SCCO         UNP       VALE  \n",
      "Date                                          \n",
      "2021-01-04  54.866444  185.846649  11.780221  \n",
      "2021-01-05  55.592335  188.126129  11.976559  \n",
      "2021-01-06  56.236679  192.062607  12.294760  \n",
      "2021-01-07  58.055492  194.735779  12.816067  \n",
      "2021-01-08  58.267551  200.320038  12.809298  \n",
      "Ticker            AES         AMR        BHP        BTU         CNI  \\\n",
      "Date                                                                  \n",
      "2021-01-04  20.197660         NaN  51.894207   2.860808  105.250114   \n",
      "2021-01-05  20.875549         NaN  53.550819   3.337609  106.662041   \n",
      "2021-01-06  21.709871         NaN  55.253662   3.201380  108.506165   \n",
      "2021-01-07  21.492601         NaN  56.386311   3.181919  109.236137   \n",
      "2021-01-08  22.092270         NaN  56.602058   3.123535  111.474075   \n",
      "...               ...         ...        ...        ...         ...   \n",
      "2024-12-23  12.856047  201.910004  49.410000  20.203943  102.470001   \n",
      "2024-12-24  12.816671  199.850006  49.419998  19.955126  102.900002   \n",
      "2024-12-26  12.639482  198.839996  49.349998  19.716261  102.660004   \n",
      "2024-12-27  12.550888  198.979996  49.209999  19.865551  101.970001   \n",
      "2024-12-30  12.452449  201.110001  48.779999  20.681673  100.779999   \n",
      "\n",
      "Ticker            RIO       SCCO         UNP       VALE  \n",
      "Date                                                     \n",
      "2021-01-04  54.546722  54.866444  185.846649  11.780221  \n",
      "2021-01-05  55.864761  55.592335  188.126129  11.976559  \n",
      "2021-01-06  58.359848  56.236679  192.062607  12.294760  \n",
      "2021-01-07  60.601196  58.055492  194.735779  12.816067  \n",
      "2021-01-08  61.101631  58.267551  200.320038  12.809298  \n",
      "...               ...        ...         ...        ...  \n",
      "2024-12-23  59.230000  92.899857  227.130005   8.940000  \n",
      "2024-12-24  59.200001  93.753693  229.750000   8.940000  \n",
      "2024-12-26  59.250000  93.922478  230.229996   8.960000  \n",
      "2024-12-27  59.009998  92.542435  229.929993   8.920000  \n",
      "2024-12-30  58.590000  90.795036  227.789993   8.860000  \n",
      "\n",
      "[1004 rows x 9 columns]\n"
     ]
    },
    {
     "name": "stderr",
     "output_type": "stream",
     "text": [
      "\n"
     ]
    }
   ],
   "source": [
    "# Lista de empresas a evaluar\n",
    "tickers_list = ['VALE', 'BHP', 'RIO', 'SCCO', 'BTU', 'AMR', 'AES', 'UNP', 'CNI']\n",
    "\n",
    "for ticker in tickers_list:\n",
    "    data = yf.Ticker(ticker).history(start='2023-01-01', end='2023-12-31')\n",
    "    if data.empty:\n",
    "        print(f\"no hay datos para {ticker}\")\n",
    "    else:\n",
    "        print(f\"{ticker} tiene datos\")\n",
    "\n",
    "# Descargar datos históricos\n",
    "tickers = yf.Tickers(\" \".join(tickers_list))\n",
    "hist = tickers.history(start='2021-01-01',end='2024-12-31')\n",
    "\n",
    "print(hist['Close'].head())\n",
    "\n",
    "adj_close = hist['Close']\n",
    "\n",
    "#rellenar con el último valor disponible para los vacíos\n",
    "#adj_close = hist['Close'].fillna(method='ffill')\n",
    "#adj_close = adj_close.fillna(method='bfill')  \n",
    "\n",
    "\n",
    "if adj_close.empty:\n",
    "    raise ValueError(\"no se obtuvieron datos de precios de estos activos\")\n",
    "\n",
    "print(adj_close)"
   ]
  },
  {
   "cell_type": "markdown",
   "metadata": {},
   "source": [
    "### 3. Portfolios Analysis"
   ]
  },
  {
   "cell_type": "code",
   "execution_count": 12,
   "metadata": {},
   "outputs": [
    {
     "name": "stdout",
     "output_type": "stream",
     "text": [
      "                 Activos  ReP (%)  RiP (%)  SharpeP\n",
      "0  (AES, BTU, SCCO, UNP)   3.6935   1.3156   2.8074\n",
      "1   (AES, BTU, RIO, UNP)   2.1106   1.2587   1.6769\n",
      "2   (AES, BHP, BTU, UNP)   1.3807   1.2817   1.0772\n",
      "3  (AES, BTU, UNP, VALE)   0.5063   1.2888   0.3928\n",
      "4  (AES, BTU, CNI, SCCO)  -0.8841   1.3336  -0.6630\n",
      "5   (AES, BTU, CNI, RIO)  -1.8293   1.2832  -1.4255\n",
      "6   (AES, BHP, BTU, CNI)  -2.6673   1.3035  -2.0462\n",
      "7  (AES, BTU, CNI, VALE)  -3.2014   1.3089  -2.4458\n",
      "\n",
      "Resultados guardados en 'mejores_portafolios.xlsx'\n"
     ]
    }
   ],
   "source": [
    "\n",
    "# Función para calcular métricas del portafolio\n",
    "def calcular_metricas(adj_close_values):\n",
    "    R = np.log(adj_close_values[1:] / adj_close_values[:-1])  # Retornos logarítmicos\n",
    "    RE = np.mean(R, axis=0) * 252  # Retorno esperado anualizado\n",
    "    RI = np.std(R, axis=0) * np.sqrt(252)  # Riesgo anualizado\n",
    "    S = np.cov(R, rowvar=False)  # Matriz de covarianza\n",
    "    corr = np.corrcoef(R, rowvar=False)  # Matriz de correlación\n",
    "    return RE, RI, S, corr\n",
    "\n",
    "# Obtener métricas generales\n",
    "adj_close_values = adj_close.values\n",
    "RE, RI, S, correlation_matrix = calcular_metricas(adj_close_values)\n",
    "\n",
    "# Evaluar todas las combinaciones posibles de 4 activos\n",
    "mejores_portafolios = []\n",
    "for subset in combinations(adj_close.columns, 4):\n",
    "    indices = [adj_close.columns.get_loc(ticker) for ticker in subset]\n",
    "    corr_submatrix = correlation_matrix[np.ix_(indices, indices)]\n",
    "\n",
    "    # Filtrar combinaciones con correlación > 0.5\n",
    "    if np.any(np.abs(np.triu(corr_submatrix, k=1)) > 0.5):\n",
    "        continue\n",
    "\n",
    "    # Extraer datos de la combinación aceptable\n",
    "    RE_sub = RE[indices]\n",
    "    S_sub = S[np.ix_(indices, indices)]\n",
    "    weights = np.ones(4) / 4  # Pesos iniciales iguales\n",
    "\n",
    "    # Definir restricciones y límites\n",
    "    constraints = [{'type': 'eq', 'fun': lambda w: np.sum(w) - 1}]\n",
    "    bounds = [(0, None)] * 4\n",
    "\n",
    "    # Optimizar el portafolio\n",
    "    res = minimize(lambda w: w @ S_sub @ w.T, x0=weights, method='SLSQP', bounds=bounds, constraints=constraints, options={'disp': False, 'maxiter': 1000, 'ftol': 1e-12})\n",
    "\n",
    "    if res.success:\n",
    "        # Calcular métricas del portafolio optimizado\n",
    "        ReP = res.x @ RE_sub.T\n",
    "        varP = res.x @ S_sub @ res.x.T\n",
    "        RiP = np.sqrt(varP)\n",
    "        SharpeP = ReP / RiP\n",
    "\n",
    "        # Guardar resultados\n",
    "        mejores_portafolios.append({\n",
    "            \"Activos\": subset,\n",
    "            \"ReP (%)\": round(ReP * 100, 4),\n",
    "            \"RiP (%)\": round(RiP * 100, 4),\n",
    "            \"SharpeP\": round(SharpeP, 4)\n",
    "        })\n",
    "\n",
    "# Ordenar por el mejor Sharpe Ratio\n",
    "mejores_portafolios = sorted(mejores_portafolios, key=lambda x: x[\"SharpeP\"], reverse=True)\n",
    "\n",
    "# Convertir a DataFrame y mostrar los resultados\n",
    "df_resultados = pd.DataFrame(mejores_portafolios)\n",
    "print(df_resultados)\n",
    "\n",
    "# Guardar en un archivo Excel\n",
    "df_resultados.to_excel(\"mejores_portafolios.xlsx\", index=False)\n",
    "print(\"\\nResultados guardados en 'mejores_portafolios.xlsx'\")"
   ]
  }
 ],
 "metadata": {
  "kernelspec": {
   "display_name": "base",
   "language": "python",
   "name": "python3"
  },
  "language_info": {
   "codemirror_mode": {
    "name": "ipython",
    "version": 3
   },
   "file_extension": ".py",
   "mimetype": "text/x-python",
   "name": "python",
   "nbconvert_exporter": "python",
   "pygments_lexer": "ipython3",
   "version": "3.9.7"
  }
 },
 "nbformat": 4,
 "nbformat_minor": 2
}
