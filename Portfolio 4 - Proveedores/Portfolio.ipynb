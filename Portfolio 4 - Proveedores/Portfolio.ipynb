{
 "cells": [
  {
   "cell_type": "markdown",
   "metadata": {},
   "source": [
    "### 1. Import Libraries"
   ]
  },
  {
   "cell_type": "code",
   "execution_count": 120,
   "metadata": {},
   "outputs": [],
   "source": [
    "import yfinance as yf\n",
    "from scipy.optimize import minimize\n",
    "import numpy as np\n",
    "import os"
   ]
  },
  {
   "cell_type": "markdown",
   "metadata": {},
   "source": [
    "### 2. Data Obtention"
   ]
  },
  {
   "cell_type": "code",
   "execution_count": 121,
   "metadata": {},
   "outputs": [
    {
     "name": "stderr",
     "output_type": "stream",
     "text": [
      "[*********************100%***********************]  4 of 4 completed"
     ]
    },
    {
     "name": "stdout",
     "output_type": "stream",
     "text": [
      "Data:\n",
      "Price           Close                                   Dividends            \\\n",
      "Ticker            AES        BTU       SCCO         UNP       AES  BTU SCCO   \n",
      "Date                                                                          \n",
      "2021-01-04  20.197662   2.860808  54.866444  185.846634       0.0  0.0  0.0   \n",
      "2021-01-05  20.875547   3.337609  55.592339  188.126175       0.0  0.0  0.0   \n",
      "2021-01-06  21.709875   3.201380  56.236668  192.062607       0.0  0.0  0.0   \n",
      "2021-01-07  21.492601   3.181919  58.055492  194.735733       0.0  0.0  0.0   \n",
      "2021-01-08  22.092274   3.123535  58.267567  200.320023       0.0  0.0  0.0   \n",
      "...               ...        ...        ...         ...       ...  ...  ...   \n",
      "2024-12-23  12.856047  20.203943  92.899857  227.130005       0.0  0.0  0.0   \n",
      "2024-12-24  12.816671  19.955126  93.753693  229.750000       0.0  0.0  0.0   \n",
      "2024-12-26  12.639482  19.716261  93.922478  230.229996       0.0  0.0  0.0   \n",
      "2024-12-27  12.550888  19.865551  92.542435  229.929993       0.0  0.0  0.0   \n",
      "2024-12-30  12.452449  20.681673  90.795036  227.789993       0.0  0.0  0.0   \n",
      "\n",
      "Price                 High             ...       Open              \\\n",
      "Ticker      UNP        AES        BTU  ...       SCCO         UNP   \n",
      "Date                                   ...                          \n",
      "2021-01-04  0.0  20.849480   2.880269  ...  54.956157  190.451374   \n",
      "2021-01-05  0.0  21.023293   3.648989  ...  54.605443  185.745984   \n",
      "2021-01-06  0.0  21.918457   3.454377  ...  55.926734  188.171920   \n",
      "2021-01-07  0.0  21.987983   3.473838  ...  57.093064  192.804121   \n",
      "2021-01-08  0.0  22.118347   3.444646  ...  57.982099  199.569342   \n",
      "...         ...        ...        ...  ...        ...         ...   \n",
      "2024-12-23  0.0  12.885578  20.631909  ...  92.204873  225.630005   \n",
      "2024-12-24  0.0  12.846203  20.159156  ...  93.078562  227.729996   \n",
      "2024-12-26  0.0  12.787140  20.074558  ...  93.336707  228.720001   \n",
      "2024-12-27  0.0  12.629639  19.935221  ...  92.959425  228.580002   \n",
      "2024-12-30  0.0  12.511512  20.751342  ...  91.341100  228.179993   \n",
      "\n",
      "Price      Stock Splits                   Volume                             \n",
      "Ticker              AES  BTU SCCO  UNP       AES      BTU     SCCO      UNP  \n",
      "Date                                                                         \n",
      "2021-01-04          0.0  0.0  0.0  0.0   6523400  5766000  1498549  2642400  \n",
      "2021-01-05          0.0  0.0  0.0  0.0   6392600  9013300  1061379  2127300  \n",
      "2021-01-06          0.0  0.0  0.0  0.0   6504300  5795900  1086554  2512400  \n",
      "2021-01-07          0.0  0.0  0.0  0.0   6068300  2103900  1246196  2023000  \n",
      "2021-01-08          0.0  0.0  0.0  0.0   4479300  2580000   898098  3922900  \n",
      "...                 ...  ...  ...  ...       ...      ...      ...      ...  \n",
      "2024-12-23          0.0  0.0  0.0  0.0  10108300  1949000   575600  1939300  \n",
      "2024-12-24          0.0  0.0  0.0  0.0   3967400  1194800   298500   669000  \n",
      "2024-12-26          0.0  0.0  0.0  0.0   7272100  1706800   662600  1021700  \n",
      "2024-12-27          0.0  0.0  0.0  0.0   9280700  1634600   401900  1455900  \n",
      "2024-12-30          0.0  0.0  0.0  0.0  10800300  2541000   688400  1659700  \n",
      "\n",
      "[1004 rows x 28 columns]\n"
     ]
    },
    {
     "name": "stderr",
     "output_type": "stream",
     "text": [
      "\n"
     ]
    }
   ],
   "source": [
    "tickers = yf.Tickers('AES BTU SCCO UNP')    \n",
    "hist = tickers.history(start='2021-01-01',end='2024-12-31')\n",
    "print('Data:')\n",
    "print(hist)"
   ]
  },
  {
   "cell_type": "code",
   "execution_count": 122,
   "metadata": {},
   "outputs": [
    {
     "name": "stdout",
     "output_type": "stream",
     "text": [
      "Adj Close:\n",
      "Ticker            AES        BTU       SCCO         UNP\n",
      "Date                                                   \n",
      "2021-01-04  20.197662   2.860808  54.866444  185.846634\n",
      "2021-01-05  20.875547   3.337609  55.592339  188.126175\n",
      "2021-01-06  21.709875   3.201380  56.236668  192.062607\n",
      "2021-01-07  21.492601   3.181919  58.055492  194.735733\n",
      "2021-01-08  22.092274   3.123535  58.267567  200.320023\n",
      "...               ...        ...        ...         ...\n",
      "2024-12-23  12.856047  20.203943  92.899857  227.130005\n",
      "2024-12-24  12.816671  19.955126  93.753693  229.750000\n",
      "2024-12-26  12.639482  19.716261  93.922478  230.229996\n",
      "2024-12-27  12.550888  19.865551  92.542435  229.929993\n",
      "2024-12-30  12.452449  20.681673  90.795036  227.789993\n",
      "\n",
      "[1004 rows x 4 columns]\n"
     ]
    }
   ],
   "source": [
    "adj_close = hist['Close']\n",
    "#adj_close = hist['Close'].fillna(method='ffill')\n",
    "#adj_close = adj_close.fillna(method='bfill')  \n",
    "print('Adj Close:')\n",
    "print(adj_close)"
   ]
  },
  {
   "cell_type": "code",
   "execution_count": 123,
   "metadata": {},
   "outputs": [],
   "source": [
    "if os.path.exists('data4.xlsx'):\n",
    "    os.remove('data4.xlsx')\n",
    "adj_close.to_excel('data4.xlsx')"
   ]
  },
  {
   "cell_type": "markdown",
   "metadata": {},
   "source": [
    "### 3. Portfolio Analysis"
   ]
  },
  {
   "cell_type": "code",
   "execution_count": 124,
   "metadata": {},
   "outputs": [
    {
     "name": "stdout",
     "output_type": "stream",
     "text": [
      "Adj Close values:\n",
      "[[ 20.1977   2.8608  54.8664 185.8466]\n",
      " [ 20.8755   3.3376  55.5923 188.1262]\n",
      " [ 21.7099   3.2014  56.2367 192.0626]\n",
      " ...\n",
      " [ 12.6395  19.7163  93.9225 230.23  ]\n",
      " [ 12.5509  19.8656  92.5424 229.93  ]\n",
      " [ 12.4524  20.6817  90.795  227.79  ]]\n",
      "(1004, 4)\n"
     ]
    }
   ],
   "source": [
    "adj_close_values = adj_close.values\n",
    "print('Adj Close values:')\n",
    "print(np.round(adj_close_values,4))\n",
    "print(adj_close_values.shape)"
   ]
  },
  {
   "cell_type": "code",
   "execution_count": 125,
   "metadata": {},
   "outputs": [
    {
     "name": "stdout",
     "output_type": "stream",
     "text": [
      "R:\n",
      "[[ 3.3012 15.4151  1.3143  1.2191]\n",
      " [ 3.9189 -4.1673  1.1524  2.0709]\n",
      " [-1.0058 -0.6098  3.183   1.3822]\n",
      " ...\n",
      " [-1.3921 -1.2042  0.1799  0.2087]\n",
      " [-0.7034  0.7543 -1.4802 -0.1304]\n",
      " [-0.7874  4.0261 -1.9063 -0.9351]] %\n"
     ]
    }
   ],
   "source": [
    "R = np.log(adj_close_values[1:] / adj_close_values[:-1])\n",
    "print('R:')\n",
    "print(np.round(R*100, 4), '%')"
   ]
  },
  {
   "cell_type": "code",
   "execution_count": 126,
   "metadata": {},
   "outputs": [
    {
     "name": "stdout",
     "output_type": "stream",
     "text": [
      "RE: [-12.1515  49.7001  12.6553   5.1129] %\n",
      "RI: [34.3522 76.8036 37.2596 22.4791] %\n"
     ]
    }
   ],
   "source": [
    "RE = np.mean(R, axis=0)*252\n",
    "RI = np.std(R, axis=0)*np.sqrt(252)\n",
    "print('RE:', np.round(RE*100, 4), '%')\n",
    "print('RI:', np.round(RI*100, 4), '%')"
   ]
  },
  {
   "cell_type": "code",
   "execution_count": 127,
   "metadata": {},
   "outputs": [
    {
     "name": "stdout",
     "output_type": "stream",
     "text": [
      "Sharpes: [-0.3537  0.6471  0.3397  0.2275]\n"
     ]
    }
   ],
   "source": [
    "Sharpes = RE / RI\n",
    "print('Sharpes:', np.round(Sharpes, 4))"
   ]
  },
  {
   "cell_type": "code",
   "execution_count": 128,
   "metadata": {},
   "outputs": [
    {
     "name": "stdout",
     "output_type": "stream",
     "text": [
      "S:\n",
      "[[0.04687514 0.01097494 0.01671421 0.01098244]\n",
      " [0.01097494 0.23431288 0.03698926 0.01323317]\n",
      " [0.01671421 0.03698926 0.05514539 0.01017095]\n",
      " [0.01098244 0.01323317 0.01017095 0.02007201]] %\n"
     ]
    }
   ],
   "source": [
    "S = np.cov(R, rowvar=False)\n",
    "print('S:')\n",
    "print(S*100, '%')"
   ]
  },
  {
   "cell_type": "code",
   "execution_count": 129,
   "metadata": {},
   "outputs": [
    {
     "name": "stdout",
     "output_type": "stream",
     "text": [
      "Correlation:\n",
      "[[1.         0.10472075 0.32874567 0.35804062]\n",
      " [0.10472075 1.         0.32540402 0.1929614 ]\n",
      " [0.32874567 0.32540402 1.         0.30571124]\n",
      " [0.35804062 0.1929614  0.30571124 1.        ]]\n"
     ]
    }
   ],
   "source": [
    "corr = np.corrcoef(R, rowvar=False)\n",
    "print('Correlation:')\n",
    "print(corr)"
   ]
  },
  {
   "cell_type": "code",
   "execution_count": 130,
   "metadata": {},
   "outputs": [
    {
     "name": "stdout",
     "output_type": "stream",
     "text": [
      "Weights: [0.25 0.25 0.25 0.25]\n",
      "Sum of weights: 1.0\n"
     ]
    }
   ],
   "source": [
    "n_assets = R.shape[1]\n",
    "weights = np.ones(n_assets) / n_assets\n",
    "print('Weights:', np.round(weights, 4))\n",
    "print('Sum of weights:', np.sum(weights))"
   ]
  },
  {
   "cell_type": "code",
   "execution_count": 131,
   "metadata": {},
   "outputs": [],
   "source": [
    "def rep(w,r):\n",
    "    return w @ np.transpose(r)\n",
    "\n",
    "def varp(w,s):\n",
    "    return w @ s @ np.transpose(w)"
   ]
  },
  {
   "cell_type": "code",
   "execution_count": 132,
   "metadata": {},
   "outputs": [
    {
     "name": "stdout",
     "output_type": "stream",
     "text": [
      "Portafolio pre-optimización:\n",
      "ReP: 13.8292 %\n",
      "varP: 0.0003\n",
      "RiP: 1.8617 %\n",
      "SharpeP: 7.4284\n"
     ]
    }
   ],
   "source": [
    "ReP = rep(weights, RE)\n",
    "varP = varp(weights, S)\n",
    "RiP = np.sqrt(varP)\n",
    "SharpeP = ReP / RiP\n",
    "print('Portafolio pre-optimización:')\n",
    "print('ReP:', round(ReP*100, 4), '%')\n",
    "print('varP:', round(varP, 4))\n",
    "print('RiP:', round(RiP*100, 4), '%')\n",
    "print('SharpeP:', round(SharpeP, 4))"
   ]
  },
  {
   "cell_type": "markdown",
   "metadata": {},
   "source": [
    "### 4. Portfolio Optimization"
   ]
  },
  {
   "cell_type": "code",
   "execution_count": 133,
   "metadata": {},
   "outputs": [
    {
     "name": "stdout",
     "output_type": "stream",
     "text": [
      "Pesos optimizados:\n",
      "[15.5071  0.5759 13.2719 70.6451] %\n"
     ]
    }
   ],
   "source": [
    "def constr(w):\n",
    "    return np.sum(w) - 1\n",
    "\n",
    "num_assets = 4\n",
    "bounds = [(0, None)] * num_assets \n",
    "\n",
    "constraints = [{'type': 'eq', 'fun': constr}]\n",
    "\n",
    "res = minimize(\n",
    "    fun=lambda w: varp(w, S),\n",
    "    x0=weights,\n",
    "    method='SLSQP',\n",
    "    bounds=bounds,\n",
    "    constraints=constraints,\n",
    "    options={'disp': False, 'maxiter': 1000, 'ftol': 1e-12}\n",
    ")\n",
    "\n",
    "print('Pesos optimizados:')\n",
    "print(np.round(res.x*100, 4), '%')\n"
   ]
  },
  {
   "cell_type": "code",
   "execution_count": 134,
   "metadata": {},
   "outputs": [
    {
     "name": "stdout",
     "output_type": "stream",
     "text": [
      "Portafolio post-optimización:\n",
      "ReP: 3.6935 %\n",
      "varP: 0.0002\n",
      "RiP: 1.3156 %\n",
      "SharpeP: 2.8074\n"
     ]
    }
   ],
   "source": [
    "ReP = rep(res.x, RE)\n",
    "varP = varp(res.x, S)   \n",
    "RiP = np.sqrt(varP)\n",
    "SharpeP = ReP / RiP\n",
    "print('Portafolio post-optimización:')\n",
    "print('ReP:', round(ReP*100, 4), '%')\n",
    "print('varP:', round(varP, 4))\n",
    "print('RiP:', round(RiP*100, 4), '%')\n",
    "print('SharpeP:', round(SharpeP, 4))"
   ]
  }
 ],
 "metadata": {
  "kernelspec": {
   "display_name": "base",
   "language": "python",
   "name": "python3"
  },
  "language_info": {
   "codemirror_mode": {
    "name": "ipython",
    "version": 3
   },
   "file_extension": ".py",
   "mimetype": "text/x-python",
   "name": "python",
   "nbconvert_exporter": "python",
   "pygments_lexer": "ipython3",
   "version": "3.9.7"
  }
 },
 "nbformat": 4,
 "nbformat_minor": 2
}
