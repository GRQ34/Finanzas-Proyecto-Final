{
  "cells": [
    {
      "cell_type": "markdown",
      "metadata": {
        "id": "v7WxMIXFlqEV"
      },
      "source": [
        "### 1. Import Libraries"
      ]
    },
    {
      "cell_type": "code",
      "execution_count": 29,
      "metadata": {
        "id": "Tdjis2_flqEW"
      },
      "outputs": [],
      "source": [
        "import yfinance as yf\n",
        "from scipy.optimize import minimize\n",
        "import numpy as np\n",
        "import pandas as pd\n",
        "from itertools import combinations"
      ]
    },
    {
      "cell_type": "markdown",
      "metadata": {
        "id": "s_DTLITTlqEW"
      },
      "source": [
        "### 2. Data Obtention"
      ]
    },
    {
      "cell_type": "code",
      "execution_count": 30,
      "metadata": {
        "colab": {
          "base_uri": "https://localhost:8080/"
        },
        "id": "KNd6BbfNlqEX",
        "outputId": "6c7cc86d-f1eb-483d-8757-0ee1c1d6bd5e"
      },
      "outputs": [
        {
          "output_type": "stream",
          "name": "stderr",
          "text": [
            "[*********************100%***********************]  9 of 9 completed\n"
          ]
        }
      ],
      "source": [
        "# Lista de empresas a evaluar\n",
        "tickers_list = ['VALE', 'BHP', 'RIO', 'SCCO', 'BTU', 'AMR', 'AES', 'UNP', 'CNI']\n",
        "\n",
        "# Descargar datos históricos\n",
        "tickers = yf.Tickers(\" \".join(tickers_list))\n",
        "hist = tickers.history(start='2021-01-01',end='2024-12-31')\n",
        "adj_close = hist['Close'].dropna(axis=1, how='any')"
      ]
    },
    {
      "cell_type": "markdown",
      "metadata": {
        "id": "4_1gzmcZlqEY"
      },
      "source": [
        "### 3. Portfolios Analysis"
      ]
    },
    {
      "cell_type": "code",
      "execution_count": 31,
      "metadata": {
        "colab": {
          "base_uri": "https://localhost:8080/"
        },
        "id": "_7NyfvBnlqEY",
        "outputId": "6e897bea-31f8-42e7-e9e4-bad900b0fdc1"
      },
      "outputs": [
        {
          "output_type": "stream",
          "name": "stdout",
          "text": [
            "                 Activos  ReP (%)  RiP (%)  SharpeP\n",
            "0  (AES, BTU, SCCO, UNP)   3.6932  20.8851   0.1768\n",
            "1   (AES, BTU, RIO, UNP)   2.1106  19.9808   0.1056\n",
            "2   (AES, BHP, BTU, UNP)   1.3807  20.3460   0.0679\n",
            "3  (AES, BTU, UNP, VALE)   0.5063  20.4585   0.0247\n",
            "4  (AES, BTU, CNI, SCCO)  -0.8844  21.1696  -0.0418\n",
            "5   (AES, BTU, CNI, RIO)  -1.8293  20.3709  -0.0898\n",
            "6   (AES, BHP, BTU, CNI)  -2.6673  20.6931  -0.1289\n",
            "7  (AES, BTU, CNI, VALE)  -3.2013  20.7785  -0.1541\n",
            "\n",
            "Resultados guardados en 'mejores_portafolios.xlsx'\n"
          ]
        }
      ],
      "source": [
        "# Función para calcular métricas del portafolio\n",
        "def calcular_metricas(adj_close_values):\n",
        "    R = np.log(adj_close_values[1:] / adj_close_values[:-1])  # Retornos logarítmicos\n",
        "    RE = np.mean(R, axis=0) * 252  # Retorno esperado anualizado\n",
        "    RI = np.std(R, axis=0) * np.sqrt(252)  # Riesgo anualizado\n",
        "    S = np.cov(R, rowvar=False)  # Matriz de covarianza\n",
        "    corr = np.corrcoef(R, rowvar=False)  # Matriz de correlación\n",
        "    return RE, RI, S, corr\n",
        "\n",
        "# Obtener métricas generales\n",
        "adj_close_values = adj_close.values\n",
        "RE, RI, S, correlation_matrix = calcular_metricas(adj_close_values)\n",
        "\n",
        "# Evaluar todas las combinaciones posibles de 4 activos\n",
        "mejores_portafolios = []\n",
        "for subset in combinations(adj_close.columns, 4):\n",
        "    indices = [adj_close.columns.get_loc(ticker) for ticker in subset]\n",
        "    corr_submatrix = correlation_matrix[np.ix_(indices, indices)]\n",
        "\n",
        "    # Filtrar combinaciones con correlación > 0.5\n",
        "    if np.any(np.triu(corr_submatrix, k=1) > 0.5):\n",
        "        continue  # Saltar esta combinación\n",
        "\n",
        "    # Extraer datos de la combinación aceptable\n",
        "    RE_sub = RE[indices]\n",
        "    S_sub = S[np.ix_(indices, indices)]\n",
        "    weights = np.ones(4) / 4  # Pesos iniciales iguales\n",
        "\n",
        "    # Definir restricciones y límites\n",
        "    constraints = [{'type': 'eq', 'fun': lambda w: np.sum(w) - 1}]\n",
        "    bounds = [(0, None)] * 4\n",
        "\n",
        "    # Optimizar el portafolio\n",
        "    res = minimize(lambda w: w @ S_sub @ w.T, x0=weights, method='SLSQP', bounds=bounds, constraints=constraints, options={'disp': False, 'maxiter': 1000, 'ftol': 1e-12})\n",
        "\n",
        "    if res.success:\n",
        "        # Calcular métricas del portafolio optimizado\n",
        "        ReP = res.x @ RE_sub.T\n",
        "        varP = res.x @ S_sub @ res.x.T\n",
        "        RiP = np.sqrt(varP)*np.sqrt(252)\n",
        "        SharpeP = ReP / RiP\n",
        "\n",
        "        # Guardar resultados\n",
        "        mejores_portafolios.append({\n",
        "            \"Activos\": subset,\n",
        "            \"ReP (%)\": round(ReP * 100, 4),\n",
        "            \"RiP (%)\": round(RiP * 100, 4),\n",
        "            \"SharpeP\": round(SharpeP, 4)\n",
        "        })\n",
        "\n",
        "# Ordenar por el mejor Sharpe Ratio\n",
        "mejores_portafolios = sorted(mejores_portafolios, key=lambda x: x[\"SharpeP\"], reverse=True)\n",
        "\n",
        "# Convertir a DataFrame y mostrar los resultados\n",
        "df_resultados = pd.DataFrame(mejores_portafolios)\n",
        "print(df_resultados)\n",
        "\n",
        "# Guardar en un archivo Excel\n",
        "df_resultados.to_excel(\"mejores_portafolios.xlsx\", index=False)\n",
        "print(\"\\nResultados guardados en 'mejores_portafolios.xlsx'\")"
      ]
    }
  ],
  "metadata": {
    "kernelspec": {
      "display_name": "Python 3",
      "language": "python",
      "name": "python3"
    },
    "language_info": {
      "codemirror_mode": {
        "name": "ipython",
        "version": 3
      },
      "file_extension": ".py",
      "mimetype": "text/x-python",
      "name": "python",
      "nbconvert_exporter": "python",
      "pygments_lexer": "ipython3",
      "version": "3.13.0"
    },
    "colab": {
      "provenance": []
    }
  },
  "nbformat": 4,
  "nbformat_minor": 0
}