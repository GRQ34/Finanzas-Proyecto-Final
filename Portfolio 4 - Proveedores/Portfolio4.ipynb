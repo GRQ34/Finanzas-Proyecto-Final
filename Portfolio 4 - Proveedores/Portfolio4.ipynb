{
  "cells": [
    {
      "cell_type": "markdown",
      "metadata": {
        "id": "bXumEJpUk1R0"
      },
      "source": [
        "### 1. Import Libraries"
      ]
    },
    {
      "cell_type": "code",
      "execution_count": 31,
      "metadata": {
        "id": "9Ifmu_HOk1R1"
      },
      "outputs": [],
      "source": [
        "import yfinance as yf\n",
        "from scipy.optimize import minimize\n",
        "import numpy as np\n",
        "import os"
      ]
    },
    {
      "cell_type": "markdown",
      "metadata": {
        "id": "CxSYTNC8k1R1"
      },
      "source": [
        "### 2. Data Obtention"
      ]
    },
    {
      "cell_type": "code",
      "execution_count": 32,
      "metadata": {
        "colab": {
          "base_uri": "https://localhost:8080/"
        },
        "id": "kgSSnNQ4k1R2",
        "outputId": "deb59640-d6e9-4cc8-883f-107f74594f7a"
      },
      "outputs": [
        {
          "output_type": "stream",
          "name": "stderr",
          "text": [
            "[*********************100%***********************]  4 of 4 completed"
          ]
        },
        {
          "output_type": "stream",
          "name": "stdout",
          "text": [
            "Data:\n",
            "Price           Close                                   Dividends            \\\n",
            "Ticker            AES        BTU       SCCO         UNP       AES  BTU SCCO   \n",
            "Date                                                                          \n",
            "2021-01-04  20.197655   2.860808  54.879223  185.846649       0.0  0.0  0.0   \n",
            "2021-01-05  20.875546   3.337609  55.605289  188.126175       0.0  0.0  0.0   \n",
            "2021-01-06  21.709877   3.201380  56.249775  192.062637       0.0  0.0  0.0   \n",
            "2021-01-07  21.492599   3.181919  58.069027  194.735733       0.0  0.0  0.0   \n",
            "2021-01-08  22.092270   3.123535  58.281128  200.320023       0.0  0.0  0.0   \n",
            "...               ...        ...        ...         ...       ...  ...  ...   \n",
            "2024-12-23  12.856047  20.203943  92.899857  227.130005       0.0  0.0  0.0   \n",
            "2024-12-24  12.816671  19.955126  93.753693  229.750000       0.0  0.0  0.0   \n",
            "2024-12-26  12.639482  19.716261  93.922478  230.229996       0.0  0.0  0.0   \n",
            "2024-12-27  12.550888  19.865551  92.542435  229.929993       0.0  0.0  0.0   \n",
            "2024-12-30  12.452449  20.681673  90.795036  227.789993       0.0  0.0  0.0   \n",
            "\n",
            "Price                 High             ...       Open              \\\n",
            "Ticker      UNP        AES        BTU  ...       SCCO         UNP   \n",
            "Date                                   ...                          \n",
            "2021-01-04  0.0  20.849472   2.880269  ...  54.968958  190.451390   \n",
            "2021-01-05  0.0  21.023291   3.648990  ...  54.618164  185.745984   \n",
            "2021-01-06  0.0  21.918459   3.454377  ...  55.939769  188.171950   \n",
            "2021-01-07  0.0  21.987981   3.473838  ...  57.106374  192.804121   \n",
            "2021-01-08  0.0  22.118343   3.444646  ...  57.995594  199.569342   \n",
            "...         ...        ...        ...  ...        ...         ...   \n",
            "2024-12-23  0.0  12.885578  20.631909  ...  92.204873  225.630005   \n",
            "2024-12-24  0.0  12.846203  20.159156  ...  93.078562  227.729996   \n",
            "2024-12-26  0.0  12.787140  20.074558  ...  93.336707  228.720001   \n",
            "2024-12-27  0.0  12.629639  19.935221  ...  92.959425  228.580002   \n",
            "2024-12-30  0.0  12.511512  20.751342  ...  91.341100  228.179993   \n",
            "\n",
            "Price      Stock Splits                   Volume                             \n",
            "Ticker              AES  BTU SCCO  UNP       AES      BTU     SCCO      UNP  \n",
            "Date                                                                         \n",
            "2021-01-04          0.0  0.0  0.0  0.0   6523400  5766000  1498549  2642400  \n",
            "2021-01-05          0.0  0.0  0.0  0.0   6392600  9013300  1061379  2127300  \n",
            "2021-01-06          0.0  0.0  0.0  0.0   6504300  5795900  1086554  2512400  \n",
            "2021-01-07          0.0  0.0  0.0  0.0   6068300  2103900  1246196  2023000  \n",
            "2021-01-08          0.0  0.0  0.0  0.0   4479300  2580000   898098  3922900  \n",
            "...                 ...  ...  ...  ...       ...      ...      ...      ...  \n",
            "2024-12-23          0.0  0.0  0.0  0.0  10108300  1949000   575600  1939300  \n",
            "2024-12-24          0.0  0.0  0.0  0.0   3967400  1194800   298500   669000  \n",
            "2024-12-26          0.0  0.0  0.0  0.0   7272100  1706800   662600  1021700  \n",
            "2024-12-27          0.0  0.0  0.0  0.0   9280700  1634600   401900  1455900  \n",
            "2024-12-30          0.0  0.0  0.0  0.0  10800300  2541000   688400  1659700  \n",
            "\n",
            "[1004 rows x 28 columns]\n"
          ]
        },
        {
          "output_type": "stream",
          "name": "stderr",
          "text": [
            "\n"
          ]
        }
      ],
      "source": [
        "tickers = yf.Tickers('AES BTU SCCO UNP')\n",
        "hist = tickers.history(start='2021-01-01',end='2024-12-31')\n",
        "print('Data:')\n",
        "print(hist)"
      ]
    },
    {
      "cell_type": "code",
      "execution_count": 33,
      "metadata": {
        "colab": {
          "base_uri": "https://localhost:8080/"
        },
        "id": "UcTgfXn1k1R2",
        "outputId": "c369b741-0103-4077-e2d5-e7d3a11c70c5"
      },
      "outputs": [
        {
          "output_type": "stream",
          "name": "stdout",
          "text": [
            "Adj Close:\n",
            "Ticker            AES        BTU       SCCO         UNP\n",
            "Date                                                   \n",
            "2021-01-04  20.197655   2.860808  54.879223  185.846649\n",
            "2021-01-05  20.875546   3.337609  55.605289  188.126175\n",
            "2021-01-06  21.709877   3.201380  56.249775  192.062637\n",
            "2021-01-07  21.492599   3.181919  58.069027  194.735733\n",
            "2021-01-08  22.092270   3.123535  58.281128  200.320023\n",
            "...               ...        ...        ...         ...\n",
            "2024-12-23  12.856047  20.203943  92.899857  227.130005\n",
            "2024-12-24  12.816671  19.955126  93.753693  229.750000\n",
            "2024-12-26  12.639482  19.716261  93.922478  230.229996\n",
            "2024-12-27  12.550888  19.865551  92.542435  229.929993\n",
            "2024-12-30  12.452449  20.681673  90.795036  227.789993\n",
            "\n",
            "[1004 rows x 4 columns]\n"
          ]
        }
      ],
      "source": [
        "adj_close = hist['Close']\n",
        "print('Adj Close:')\n",
        "print(adj_close)"
      ]
    },
    {
      "cell_type": "code",
      "execution_count": 34,
      "metadata": {
        "id": "yrMbdB6pk1R2"
      },
      "outputs": [],
      "source": [
        "if os.path.exists('data.xlsx'):\n",
        "    os.remove('data.xlsx')\n",
        "adj_close.to_excel('data.xlsx')"
      ]
    },
    {
      "cell_type": "markdown",
      "metadata": {
        "id": "AtJWXuokk1R2"
      },
      "source": [
        "### 3. Portfolio Analysis"
      ]
    },
    {
      "cell_type": "code",
      "execution_count": 35,
      "metadata": {
        "colab": {
          "base_uri": "https://localhost:8080/"
        },
        "id": "_7q32rpTk1R2",
        "outputId": "a5783a4c-52a4-4b85-98ce-9b9f736d7164"
      },
      "outputs": [
        {
          "output_type": "stream",
          "name": "stdout",
          "text": [
            "Adj Close values:\n",
            "[[ 20.1977   2.8608  54.8792 185.8466]\n",
            " [ 20.8755   3.3376  55.6053 188.1262]\n",
            " [ 21.7099   3.2014  56.2498 192.0626]\n",
            " ...\n",
            " [ 12.6395  19.7163  93.9225 230.23  ]\n",
            " [ 12.5509  19.8656  92.5424 229.93  ]\n",
            " [ 12.4524  20.6817  90.795  227.79  ]]\n",
            "(1004, 4)\n"
          ]
        }
      ],
      "source": [
        "adj_close_values = adj_close.values\n",
        "print('Adj Close values:')\n",
        "print(np.round(adj_close_values,4))\n",
        "print(adj_close_values.shape)"
      ]
    },
    {
      "cell_type": "code",
      "execution_count": 36,
      "metadata": {
        "colab": {
          "base_uri": "https://localhost:8080/"
        },
        "id": "VlHJVZ6Qk1R2",
        "outputId": "0a6b50ec-de46-4631-88c2-dcb7ffea54a5"
      },
      "outputs": [
        {
          "output_type": "stream",
          "name": "stdout",
          "text": [
            "R:\n",
            "[[ 3.3012 15.4151  1.3144  1.2191]\n",
            " [ 3.9189 -4.1673  1.1524  2.0709]\n",
            " [-1.0059 -0.6097  3.183   1.3822]\n",
            " ...\n",
            " [-1.3921 -1.2042  0.1799  0.2087]\n",
            " [-0.7034  0.7543 -1.4802 -0.1304]\n",
            " [-0.7874  4.0261 -1.9063 -0.9351]] %\n"
          ]
        }
      ],
      "source": [
        "R = np.log(adj_close_values[1:] / adj_close_values[:-1])\n",
        "print('R:')\n",
        "print(np.round(R*100, 4), '%')"
      ]
    },
    {
      "cell_type": "code",
      "execution_count": 37,
      "metadata": {
        "colab": {
          "base_uri": "https://localhost:8080/"
        },
        "id": "-eRQCrggk1R2",
        "outputId": "759deb3d-da3d-4103-ed27-b5380c81aa8a"
      },
      "outputs": [
        {
          "output_type": "stream",
          "name": "stdout",
          "text": [
            "RE: [-12.1515  49.7001  12.6495   5.1129] %\n",
            "RI: [34.3522 76.8036 37.2595 22.4791] %\n"
          ]
        }
      ],
      "source": [
        "RE = np.mean(R, axis=0)*252\n",
        "RI = np.std(R, axis=0)*np.sqrt(252)\n",
        "print('RE:', np.round(RE*100, 4), '%')\n",
        "print('RI:', np.round(RI*100, 4), '%')"
      ]
    },
    {
      "cell_type": "code",
      "execution_count": 38,
      "metadata": {
        "colab": {
          "base_uri": "https://localhost:8080/"
        },
        "id": "s-91fTthk1R3",
        "outputId": "99293980-1d75-437f-bcab-32b1824f9dcb"
      },
      "outputs": [
        {
          "output_type": "stream",
          "name": "stdout",
          "text": [
            "Sharpes: [-0.3537  0.6471  0.3395  0.2275]\n"
          ]
        }
      ],
      "source": [
        "Sharpes = RE / RI\n",
        "print('Sharpes:', np.round(Sharpes, 4))"
      ]
    },
    {
      "cell_type": "code",
      "execution_count": 39,
      "metadata": {
        "colab": {
          "base_uri": "https://localhost:8080/"
        },
        "id": "GFo4pKk9k1R3",
        "outputId": "eec80e94-0d8d-47f8-dcc5-2be34e18d1eb"
      },
      "outputs": [
        {
          "output_type": "stream",
          "name": "stdout",
          "text": [
            "S:\n",
            "[[0.04687513 0.0109749  0.01671428 0.01098243]\n",
            " [0.0109749  0.2343129  0.03698851 0.01323318]\n",
            " [0.01671428 0.03698851 0.05514496 0.01017068]\n",
            " [0.01098243 0.01323318 0.01017068 0.02007202]] %\n"
          ]
        }
      ],
      "source": [
        "S = np.cov(R, rowvar=False)\n",
        "print('S:')\n",
        "print(S*100, '%')"
      ]
    },
    {
      "cell_type": "code",
      "execution_count": 40,
      "metadata": {
        "colab": {
          "base_uri": "https://localhost:8080/"
        },
        "id": "Q7VJVaSYk1R3",
        "outputId": "a373ec02-db70-4cd6-d99b-70d34ea34262"
      },
      "outputs": [
        {
          "output_type": "stream",
          "name": "stdout",
          "text": [
            "Correlation:\n",
            "[[1.         0.10472042 0.32874831 0.35804023]\n",
            " [0.10472042 1.         0.32539869 0.19296143]\n",
            " [0.32874831 0.32539869 1.         0.30570438]\n",
            " [0.35804023 0.19296143 0.30570438 1.        ]]\n"
          ]
        }
      ],
      "source": [
        "corr = np.corrcoef(R, rowvar=False)\n",
        "print('Correlation:')\n",
        "print(corr)"
      ]
    },
    {
      "cell_type": "code",
      "execution_count": 41,
      "metadata": {
        "colab": {
          "base_uri": "https://localhost:8080/"
        },
        "id": "GT-yrz6Dk1R3",
        "outputId": "4394c917-7ff7-49da-a731-940132e5b760"
      },
      "outputs": [
        {
          "output_type": "stream",
          "name": "stdout",
          "text": [
            "Weights: [0.25 0.25 0.25 0.25]\n",
            "Sum of weights: 1.0\n"
          ]
        }
      ],
      "source": [
        "n_assets = R.shape[1]\n",
        "weights = np.ones(n_assets) / n_assets\n",
        "print('Weights:', np.round(weights, 4))\n",
        "print('Sum of weights:', np.sum(weights))"
      ]
    },
    {
      "cell_type": "code",
      "execution_count": 42,
      "metadata": {
        "id": "iIbc4dLSk1R3"
      },
      "outputs": [],
      "source": [
        "def rep(w,r):\n",
        "    return w @ np.transpose(r)\n",
        "\n",
        "def varp(w,s):\n",
        "    return w @ s @ np.transpose(w)"
      ]
    },
    {
      "cell_type": "code",
      "execution_count": 43,
      "metadata": {
        "colab": {
          "base_uri": "https://localhost:8080/"
        },
        "id": "feosaSzHk1R3",
        "outputId": "1308a770-d5eb-475b-e97c-c0f1998a3469"
      },
      "outputs": [
        {
          "output_type": "stream",
          "name": "stdout",
          "text": [
            "Portafolio pre-optimización:\n",
            "ReP: 13.8278 %\n",
            "varP: 0.0003\n",
            "RiP: 29.5532 %\n",
            "SharpeP: 0.4679\n"
          ]
        }
      ],
      "source": [
        "ReP = rep(weights, RE)\n",
        "varP = varp(weights, S)\n",
        "RiP = np.sqrt(varP)*np.sqrt(252)\n",
        "SharpeP = ReP / RiP\n",
        "print('Portafolio pre-optimización:')\n",
        "print('ReP:', round(ReP*100, 4), '%')\n",
        "print('varP:', round(varP, 4))\n",
        "print('RiP:', round(RiP*100, 4), '%')\n",
        "print('SharpeP:', round(SharpeP, 4))"
      ]
    },
    {
      "cell_type": "markdown",
      "metadata": {
        "id": "bpOqhcW_k1R3"
      },
      "source": [
        "### 4. Portfolio Optimization"
      ]
    },
    {
      "cell_type": "code",
      "execution_count": 44,
      "metadata": {
        "colab": {
          "base_uri": "https://localhost:8080/"
        },
        "id": "07K89xFik1R3",
        "outputId": "f1d0c0f8-0de3-489a-baf2-b8cc2e970d2a"
      },
      "outputs": [
        {
          "output_type": "stream",
          "name": "stdout",
          "text": [
            "Optimization terminated successfully    (Exit mode 0)\n",
            "            Current function value: 0.00017308980719242924\n",
            "            Iterations: 18\n",
            "            Function evaluations: 90\n",
            "            Gradient evaluations: 18\n",
            "Éxito: True\n",
            "Mensaje: Optimization terminated successfully\n"
          ]
        }
      ],
      "source": [
        "def constr(w):\n",
        "    return np.sum(w) - 1\n",
        "\n",
        "num_assets = 4\n",
        "bounds = [(0, None)] * num_assets\n",
        "\n",
        "constraints = [{'type': 'eq', 'fun': constr}]\n",
        "\n",
        "res = minimize(\n",
        "    fun=lambda w: varp(w, S),\n",
        "    x0=weights,\n",
        "    method='SLSQP',\n",
        "    bounds=bounds,\n",
        "    constraints=constraints,\n",
        "    options={'disp': True, 'maxiter': 1000, 'ftol': 1e-12}\n",
        ")\n",
        "\n",
        "print(\"Éxito:\", res.success)\n",
        "print(\"Mensaje:\", res.message)\n"
      ]
    },
    {
      "cell_type": "code",
      "execution_count": 45,
      "metadata": {
        "colab": {
          "base_uri": "https://localhost:8080/"
        },
        "id": "_BdVgk8sk1R3",
        "outputId": "5f6ae054-ad04-4e40-956c-55625c5d054a"
      },
      "outputs": [
        {
          "output_type": "stream",
          "name": "stdout",
          "text": [
            "Portafolio post-optimización:\n",
            "ReP: 3.6928 %\n",
            "varP: 0.0002\n",
            "RiP: 20.8851 %\n",
            "SharpeP: 0.1768\n"
          ]
        }
      ],
      "source": [
        "ReP = rep(res.x, RE)\n",
        "varP = varp(res.x, S)\n",
        "RiP = np.sqrt(varP)*np.sqrt(252)\n",
        "SharpeP = ReP / RiP\n",
        "print('Portafolio post-optimización:')\n",
        "print('ReP:', round(ReP*100, 4), '%')\n",
        "print('varP:', round(varP, 4))\n",
        "print('RiP:', round(RiP*100, 4), '%')\n",
        "print('SharpeP:', round(SharpeP, 4))"
      ]
    }
  ],
  "metadata": {
    "kernelspec": {
      "display_name": "Python 3",
      "language": "python",
      "name": "python3"
    },
    "language_info": {
      "codemirror_mode": {
        "name": "ipython",
        "version": 3
      },
      "file_extension": ".py",
      "mimetype": "text/x-python",
      "name": "python",
      "nbconvert_exporter": "python",
      "pygments_lexer": "ipython3",
      "version": "3.13.0"
    },
    "colab": {
      "provenance": []
    }
  },
  "nbformat": 4,
  "nbformat_minor": 0
}