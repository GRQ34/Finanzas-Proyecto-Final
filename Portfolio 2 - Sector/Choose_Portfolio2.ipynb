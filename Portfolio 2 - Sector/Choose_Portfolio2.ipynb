{
  "cells": [
    {
      "cell_type": "markdown",
      "metadata": {
        "id": "v7WxMIXFlqEV"
      },
      "source": [
        "### 1. Import Libraries"
      ]
    },
    {
      "cell_type": "code",
      "execution_count": 23,
      "metadata": {
        "id": "Tdjis2_flqEW"
      },
      "outputs": [],
      "source": [
        "import yfinance as yf\n",
        "from scipy.optimize import minimize\n",
        "import numpy as np\n",
        "import pandas as pd\n",
        "from itertools import combinations"
      ]
    },
    {
      "cell_type": "markdown",
      "metadata": {
        "id": "s_DTLITTlqEW"
      },
      "source": [
        "### 2. Data Obtention"
      ]
    },
    {
      "cell_type": "code",
      "execution_count": 24,
      "metadata": {
        "colab": {
          "base_uri": "https://localhost:8080/"
        },
        "id": "KNd6BbfNlqEX",
        "outputId": "462a2cab-0b87-4d6c-ef29-cc395452a9e8"
      },
      "outputs": [
        {
          "output_type": "stream",
          "name": "stderr",
          "text": [
            "[*********************100%***********************]  100 of 100 completed\n"
          ]
        }
      ],
      "source": [
        "# Lista de empresas a evaluar\n",
        "tickers_list = [\n",
        "    'CCWFX', 'RCWBX', 'WBFFX', 'WFBFX', 'RCEBX', 'RCWHX', 'RCWEX', 'BFWFX', 'CWBCX', 'RCWCX',\n",
        "    'FCWBX', 'CCWEX', 'CCWCX', 'CWBFX', 'CCWAX', 'FWBCX', 'RCWGX', 'RCWFX', 'RCWAX', 'CRDOX',\n",
        "    'GIOCX', 'GIOSX', 'GIOIX', 'GIOAX', 'GIOPX', 'MEDGX', 'MEDAX', 'MEDEX', 'MEDFX', 'MEDHX',\n",
        "    'MEDBX', 'MEDCX', 'MEDIX', 'MEDDX', 'TRKZX', 'PRHIX', 'PAHIX', 'PRHYX', 'VMIAX', 'BBMHX',\n",
        "    'PTYIX', 'PATFX', 'PRFHX', 'FEGOX', 'FEGIX', 'FEURX', 'SGGDX', 'ERABX', 'EBABX', 'EIBAX',\n",
        "    'ECBAX', 'PFRIX', 'FRFCX', 'FRFZX', 'FRFAX', '0P0000TISB', '0P0000TISC', '0P0001HZWL', '0P0001HZWM',\n",
        "    'OGMYX', 'OGMIX', 'OGMNX', 'IOGYX', 'OGMCX', 'OPGSX', 'MHICX', 'MHIBX', 'MIHRX', 'MHIGX',\n",
        "    'MHIHX', 'MHIJX', 'MHIIX', 'MHITX', 'MHIKX', 'TRHYX', 'FGDTX', 'FGDCX', 'FIJDX', 'FGDIX',\n",
        "    'FGDAX', 'FSAGX', 'ISHSX', 'ISHYX', 'ISHFX', 'ISHAX', 'ISHCX', 'FRGOX', 'FGPMX', 'FKRCX',\n",
        "    'FGADX', 'CSOAX', 'CSOIX', 'CSOCX', 'SGDLX', 'SGDIX', 'HWHZX', 'HWHAX', 'HWHIX', 'RHYAX',\n",
        "    'RGHYX'\n",
        "]\n",
        "# Descargar datos históricos\n",
        "tickers = yf.Tickers(\" \".join(tickers_list))\n",
        "hist = tickers.history(start='2021-01-01',end='2024-12-31')\n",
        "adj_close = hist['Close'].dropna(axis=1, how='any')"
      ]
    },
    {
      "cell_type": "markdown",
      "metadata": {
        "id": "4_1gzmcZlqEY"
      },
      "source": [
        "### 3. Portfolios Analysis"
      ]
    },
    {
      "cell_type": "code",
      "execution_count": 25,
      "metadata": {
        "colab": {
          "base_uri": "https://localhost:8080/"
        },
        "id": "_7NyfvBnlqEY",
        "outputId": "8204dc81-eda9-45b1-dff3-be2268b87b49"
      },
      "outputs": [
        {
          "output_type": "stream",
          "name": "stdout",
          "text": [
            "                           Activos  ReP (%)  RiP (%)  SharpeP\n",
            "0     (FEURX, FRFZX, MEDGX, VMIAX)   5.8346   3.0925   1.8867\n",
            "1     (FEGIX, FRFZX, MEDGX, VMIAX)   5.8338   3.0926   1.8864\n",
            "2     (FRFZX, MEDGX, SGGDX, VMIAX)   5.8322   3.0925   1.8859\n",
            "3     (FEURX, FRFZX, MEDHX, VMIAX)   5.8286   3.0924   1.8848\n",
            "4     (FEURX, FRFZX, MEDIX, VMIAX)   5.8287   3.0924   1.8848\n",
            "...                            ...      ...      ...      ...\n",
            "5591  (CRDOX, ISHAX, SGGDX, VMIAX)   1.5127   2.7377   0.5526\n",
            "5592  (CRDOX, FEGIX, ISHCX, VMIAX)   0.8143   2.6522   0.3070\n",
            "5593  (CRDOX, FEGOX, ISHCX, VMIAX)   0.8143   2.6522   0.3070\n",
            "5594  (CRDOX, FEURX, ISHCX, VMIAX)   0.8143   2.6522   0.3070\n",
            "5595  (CRDOX, ISHCX, SGGDX, VMIAX)   0.8143   2.6522   0.3070\n",
            "\n",
            "[5596 rows x 4 columns]\n",
            "\n",
            "Resultados guardados en 'mejores_portafolios.xlsx'\n"
          ]
        }
      ],
      "source": [
        "# Función para calcular métricas del portafolio\n",
        "def calcular_metricas(adj_close_values):\n",
        "    R = np.log(adj_close_values[1:] / adj_close_values[:-1])  # Retornos logarítmicos\n",
        "    RE = np.mean(R, axis=0) * 252  # Retorno esperado anualizado\n",
        "    RI = np.std(R, axis=0) * np.sqrt(252)  # Riesgo anualizado\n",
        "    S = np.cov(R, rowvar=False)  # Matriz de covarianza\n",
        "    corr = np.corrcoef(R, rowvar=False)  # Matriz de correlación\n",
        "    return RE, RI, S, corr\n",
        "\n",
        "# Obtener métricas generales\n",
        "adj_close_values = adj_close.values\n",
        "RE, RI, S, correlation_matrix = calcular_metricas(adj_close_values)\n",
        "\n",
        "# Evaluar todas las combinaciones posibles de 4 activos\n",
        "mejores_portafolios = []\n",
        "for subset in combinations(adj_close.columns, 4):\n",
        "    indices = [adj_close.columns.get_loc(ticker) for ticker in subset]\n",
        "    corr_submatrix = correlation_matrix[np.ix_(indices, indices)]\n",
        "\n",
        "    # Filtrar combinaciones con correlación > 0.5\n",
        "    if np.any(np.triu(corr_submatrix, k=1) > 0.5):\n",
        "        continue  # Saltar esta combinación\n",
        "\n",
        "    # Extraer datos de la combinación aceptable\n",
        "    RE_sub = RE[indices]\n",
        "    S_sub = S[np.ix_(indices, indices)]\n",
        "    weights = np.ones(4) / 4  # Pesos iniciales iguales\n",
        "\n",
        "    # Definir restricciones y límites\n",
        "    constraints = [{'type': 'eq', 'fun': lambda w: np.sum(w) - 1}]\n",
        "    bounds = [(0, None)] * 4\n",
        "\n",
        "    # Optimizar el portafolio\n",
        "    res = minimize(lambda w: w @ S_sub @ w.T, x0=weights, method='SLSQP', bounds=bounds, constraints=constraints, options={'disp': False, 'maxiter': 1000, 'ftol': 1e-12})\n",
        "\n",
        "    if res.success:\n",
        "        # Calcular métricas del portafolio optimizado\n",
        "        ReP = res.x @ RE_sub.T\n",
        "        varP = res.x @ S_sub @ res.x.T\n",
        "        RiP = np.sqrt(varP)*np.sqrt(252)\n",
        "        SharpeP = ReP / RiP\n",
        "\n",
        "        # Guardar resultados\n",
        "        mejores_portafolios.append({\n",
        "            \"Activos\": subset,\n",
        "            \"ReP (%)\": round(ReP * 100, 4),\n",
        "            \"RiP (%)\": round(RiP * 100, 4),\n",
        "            \"SharpeP\": round(SharpeP, 4)\n",
        "        })\n",
        "\n",
        "# Ordenar por el mejor Sharpe Ratio\n",
        "mejores_portafolios = sorted(mejores_portafolios, key=lambda x: x[\"SharpeP\"], reverse=True)\n",
        "\n",
        "# Convertir a DataFrame y mostrar los resultados\n",
        "df_resultados = pd.DataFrame(mejores_portafolios)\n",
        "print(df_resultados)\n",
        "\n",
        "# Guardar en un archivo Excel\n",
        "df_resultados.to_excel(\"mejores_portafolios.xlsx\", index=False)\n",
        "print(\"\\nResultados guardados en 'mejores_portafolios.xlsx'\")"
      ]
    }
  ],
  "metadata": {
    "kernelspec": {
      "display_name": "Python 3",
      "language": "python",
      "name": "python3"
    },
    "language_info": {
      "codemirror_mode": {
        "name": "ipython",
        "version": 3
      },
      "file_extension": ".py",
      "mimetype": "text/x-python",
      "name": "python",
      "nbconvert_exporter": "python",
      "pygments_lexer": "ipython3",
      "version": "3.13.0"
    },
    "colab": {
      "provenance": []
    }
  },
  "nbformat": 4,
  "nbformat_minor": 0
}