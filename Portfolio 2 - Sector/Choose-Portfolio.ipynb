{
 "cells": [
  {
   "cell_type": "markdown",
   "metadata": {},
   "source": [
    "### 1. Import Libraries"
   ]
  },
  {
   "cell_type": "code",
   "execution_count": 9,
   "metadata": {},
   "outputs": [],
   "source": [
    "import yfinance as yf\n",
    "from scipy.optimize import minimize\n",
    "import numpy as np\n",
    "import pandas as pd\n",
    "from itertools import combinations"
   ]
  },
  {
   "cell_type": "markdown",
   "metadata": {},
   "source": [
    "### 2. Data Obtention"
   ]
  },
  {
   "cell_type": "code",
   "execution_count": 10,
   "metadata": {},
   "outputs": [
    {
     "name": "stderr",
     "output_type": "stream",
     "text": [
      "[*********************100%***********************]  100 of 100 completed\n"
     ]
    },
    {
     "name": "stdout",
     "output_type": "stream",
     "text": [
      "Ticker          BFWFX      CCWAX      CCWCX      CCWEX      CCWFX     CRDOX  \\\n",
      "Date                                                                          \n",
      "2021-01-04  19.224541  19.624508  19.999002  19.596684  19.309973  8.041525   \n",
      "2021-01-05  19.242382  19.651716  20.017706  19.614912  19.336931  8.041525   \n",
      "2021-01-06  19.206703  19.615438  19.980307  19.578451  19.300985  8.041525   \n",
      "2021-01-07  19.126410  19.524755  19.896158  19.496416  19.211130  8.049342   \n",
      "2021-01-08  19.090729  19.497549  19.858753  19.459963  19.184174  8.057156   \n",
      "...               ...        ...        ...        ...        ...       ...   \n",
      "2024-12-23  15.620000  15.710000  15.530000  15.590000  15.540000  8.818693   \n",
      "2024-12-24  15.610000  15.700000  15.520000  15.580000  15.540000  8.818693   \n",
      "2024-12-26  15.610000  15.690000  15.520000  15.580000  15.530000  8.818693   \n",
      "2024-12-27  15.590000  15.680000  15.500000  15.560000  15.520000  8.828568   \n",
      "2024-12-30  15.610000  15.690000  15.520000  15.580000  15.530000  8.830557   \n",
      "\n",
      "Ticker         CSOAX     CSOCX     CSOIX      CWBCX  ...     RGHYX     RHYAX  \\\n",
      "Date                                                 ...                       \n",
      "2021-01-04  7.746820  7.989042  7.667869  19.748518  ...  8.493146  8.480220   \n",
      "2021-01-05  7.746820  7.997052  7.667869  19.776470  ...  8.493146  8.480220   \n",
      "2021-01-06  7.762357  8.005069  7.683248  19.739208  ...  8.493146  8.480220   \n",
      "2021-01-07  7.777901  8.021094  7.698632  19.646057  ...  8.500944  8.488063   \n",
      "2021-01-08  7.785673  8.037119  7.706321  19.618107  ...  8.500944  8.488063   \n",
      "...              ...       ...       ...        ...  ...       ...       ...   \n",
      "2024-12-23  9.422418  9.434442  9.418445  15.370000  ...  9.741739  9.633671   \n",
      "2024-12-24  9.422418  9.434442  9.418445  15.360000  ...  9.741739  9.643622   \n",
      "2024-12-26  9.422418  9.434442  9.418445  15.360000  ...  9.741739  9.643622   \n",
      "2024-12-27  9.422418  9.434442  9.418445  15.340000  ...  9.751690  9.643622   \n",
      "2024-12-30  9.412532  9.434442  9.408562  15.360000  ...  9.751690  9.643622   \n",
      "\n",
      "Ticker          SGDIX      SGDLX      SGGDX     TRHYX     TRKZX      VMIAX  \\\n",
      "Date                                                                         \n",
      "2021-01-04  58.090553  58.048946  24.807945  6.809168  5.026370  73.909172   \n",
      "2021-01-05  58.279545  58.228729  24.826668  6.809168  5.033952  75.671127   \n",
      "2021-01-06  57.851822  57.799252  24.826668  6.816897  5.033952  78.934044   \n",
      "2021-01-07  57.493729  57.439693  24.742416  6.824624  5.041533  79.474739   \n",
      "2021-01-08  54.648884  54.603165  23.806269  6.824624  5.041533  78.952675   \n",
      "...               ...        ...        ...       ...       ...        ...   \n",
      "2024-12-23  52.369999  51.740002  25.580000  7.736586  5.844441  96.680000   \n",
      "2024-12-24  52.380001  51.740002  25.639999  7.736586  5.834569  97.290001   \n",
      "2024-12-26  52.380001  51.750000  25.639999  7.736586  5.834569  97.160004   \n",
      "2024-12-27  52.389999  51.759998  25.540001  7.726706  5.834569  96.489998   \n",
      "2024-12-30  51.660000  51.029999  25.180000  7.726706  5.834569  95.269997   \n",
      "\n",
      "Ticker          WBFFX      WFBFX  \n",
      "Date                              \n",
      "2021-01-04  19.515114  19.146215  \n",
      "2021-01-05  19.533239  19.172853  \n",
      "2021-01-06  19.496984  19.137337  \n",
      "2021-01-07  19.415407  19.057411  \n",
      "2021-01-08  19.379152  19.021891  \n",
      "...               ...        ...  \n",
      "2024-12-23  15.610000  15.630000  \n",
      "2024-12-24  15.610000  15.630000  \n",
      "2024-12-26  15.600000  15.620000  \n",
      "2024-12-27  15.580000  15.600000  \n",
      "2024-12-30  15.600000  15.620000  \n",
      "\n",
      "[1004 rows x 94 columns]\n"
     ]
    }
   ],
   "source": [
    "# Lista de empresas a evaluar\n",
    "''' tickers_list = [\n",
    "    'GDX', 'XLB', 'GDXJ', 'VAW', 'COPX', 'FTSL', 'XME', 'SIL', 'RING', 'SILJ',\n",
    "    'PICK', 'NUGT', 'FMAT', 'IYM', 'CARY', 'GDXU', 'JNUG', 'SGDM', 'FXZ', 'WOOD',\n",
    "    'SLVP', 'REMX', 'MXI', 'RSPM', 'SGDJ', 'AOHY', 'GOAU', 'SLX', 'PYZ', 'ICOP',\n",
    "    'GDXD', 'GOEX', 'UYM', 'SETM', 'COPP', 'GMET', 'PSCM', 'GDMN', 'COPJ', 'HCOM',\n",
    "    'NIKL', 'LITP', 'DMAT', 'ILIT', 'CRIT', 'AUMI', 'ION', 'AGMI', 'LIMI', 'COPA'\n",
    "]'''\n",
    "tickers_list = [\n",
    "    'CCWFX', 'RCWBX', 'WBFFX', 'WFBFX', 'RCEBX', 'RCWHX', 'RCWEX', 'BFWFX', 'CWBCX', 'RCWCX',\n",
    "    'FCWBX', 'CCWEX', 'CCWCX', 'CWBFX', 'CCWAX', 'FWBCX', 'RCWGX', 'RCWFX', 'RCWAX', 'CRDOX',\n",
    "    'GIOCX', 'GIOSX', 'GIOIX', 'GIOAX', 'GIOPX', 'MEDGX', 'MEDAX', 'MEDEX', 'MEDFX', 'MEDHX',\n",
    "    'MEDBX', 'MEDCX', 'MEDIX', 'MEDDX', 'TRKZX', 'PRHIX', 'PAHIX', 'PRHYX', 'VMIAX', 'BBMHX',\n",
    "    'PTYIX', 'PATFX', 'PRFHX', 'FEGOX', 'FEGIX', 'FEURX', 'SGGDX', 'ERABX', 'EBABX', 'EIBAX',\n",
    "    'ECBAX', 'PFRIX', 'FRFCX', 'FRFZX', 'FRFAX', '0P0000TISB', '0P0000TISC', '0P0001HZWL', '0P0001HZWM',\n",
    "    'OGMYX', 'OGMIX', 'OGMNX', 'IOGYX', 'OGMCX', 'OPGSX', 'MHICX', 'MHIBX', 'MIHRX', 'MHIGX',\n",
    "    'MHIHX', 'MHIJX', 'MHIIX', 'MHITX', 'MHIKX', 'TRHYX', 'FGDTX', 'FGDCX', 'FIJDX', 'FGDIX',\n",
    "    'FGDAX', 'FSAGX', 'ISHSX', 'ISHYX', 'ISHFX', 'ISHAX', 'ISHCX', 'FRGOX', 'FGPMX', 'FKRCX',\n",
    "    'FGADX', 'CSOAX', 'CSOIX', 'CSOCX', 'SGDLX', 'SGDIX', 'HWHZX', 'HWHAX', 'HWHIX', 'RHYAX',\n",
    "    'RGHYX'\n",
    "]\n",
    "\n",
    "# Descargar datos históricos\n",
    "tickers = yf.Tickers(\" \".join(tickers_list))\n",
    "hist = tickers.history(start='2021-01-01',end='2024-12-31')\n",
    "adj_close = hist['Close'].dropna(axis=1)  # Eliminar valores NaN\n",
    "print(adj_close)"
   ]
  },
  {
   "cell_type": "markdown",
   "metadata": {},
   "source": [
    "### 3. Portfolios Analysis"
   ]
  },
  {
   "cell_type": "code",
   "execution_count": 11,
   "metadata": {},
   "outputs": [
    {
     "name": "stdout",
     "output_type": "stream",
     "text": [
      "                           Activos  ReP (%)  RiP (%)  SharpeP\n",
      "0     (FEURX, FRFZX, MEDGX, VMIAX)   5.8346   0.1948  29.9502\n",
      "1     (FEGIX, FRFZX, MEDGX, VMIAX)   5.8338   0.1948  29.9453\n",
      "2     (FRFZX, MEDGX, SGGDX, VMIAX)   5.8322   0.1948  29.9382\n",
      "3     (FEURX, FRFZX, MEDIX, VMIAX)   5.8287   0.1948  29.9204\n",
      "4     (FEURX, FRFZX, MEDHX, VMIAX)   5.8286   0.1948  29.9201\n",
      "...                            ...      ...      ...      ...\n",
      "5591  (CRDOX, ISHAX, SGGDX, VMIAX)   1.5127   0.1725   8.7716\n",
      "5592  (CRDOX, FEGIX, ISHCX, VMIAX)   0.8143   0.1671   4.8740\n",
      "5593  (CRDOX, FEGOX, ISHCX, VMIAX)   0.8143   0.1671   4.8740\n",
      "5594  (CRDOX, FEURX, ISHCX, VMIAX)   0.8143   0.1671   4.8740\n",
      "5595  (CRDOX, ISHCX, SGGDX, VMIAX)   0.8143   0.1671   4.8740\n",
      "\n",
      "[5596 rows x 4 columns]\n",
      "\n",
      "Resultados guardados en 'mejores_portafolios.xlsx'\n"
     ]
    }
   ],
   "source": [
    "# Función para calcular métricas del portafolio\n",
    "def calcular_metricas(adj_close_values):\n",
    "    R = np.log(adj_close_values[1:] / adj_close_values[:-1])  # Retornos logarítmicos\n",
    "    RE = np.mean(R, axis=0) * 252  # Retorno esperado anualizado\n",
    "    RI = np.std(R, axis=0) * np.sqrt(252)  # Riesgo anualizado\n",
    "    S = np.cov(R, rowvar=False)  # Matriz de covarianza\n",
    "    corr = np.corrcoef(R, rowvar=False)  # Matriz de correlación\n",
    "    return RE, RI, S, corr\n",
    "\n",
    "# Obtener métricas generales\n",
    "adj_close_values = adj_close.values\n",
    "RE, RI, S, correlation_matrix = calcular_metricas(adj_close_values)\n",
    "\n",
    "# Evaluar todas las combinaciones posibles de 4 activos\n",
    "mejores_portafolios = []\n",
    "for subset in combinations(adj_close.columns, 4):\n",
    "    indices = [adj_close.columns.get_loc(ticker) for ticker in subset]\n",
    "    corr_submatrix = correlation_matrix[np.ix_(indices, indices)]\n",
    "\n",
    "    # Filtrar combinaciones con correlación > 0.5\n",
    "    if np.any(np.abs(np.triu(corr_submatrix, k=1)) > 0.5):\n",
    "        continue\n",
    "\n",
    "    # Extraer datos de la combinación aceptable\n",
    "    RE_sub = RE[indices]\n",
    "    S_sub = S[np.ix_(indices, indices)]\n",
    "    weights = np.ones(4) / 4  # Pesos iniciales iguales\n",
    "\n",
    "    # Definir restricciones y límites\n",
    "    constraints = [{'type': 'eq', 'fun': lambda w: np.sum(w) - 1}]\n",
    "    bounds = [(0, None)] * 4\n",
    "\n",
    "    # Optimizar el portafolio\n",
    "    res = minimize(lambda w: w @ S_sub @ w.T, x0=weights, method='SLSQP', bounds=bounds, constraints=constraints, options={'disp': False, 'maxiter': 1000, 'ftol': 1e-12})\n",
    "\n",
    "    if res.success:\n",
    "        # Calcular métricas del portafolio optimizado\n",
    "        ReP = res.x @ RE_sub.T\n",
    "        varP = res.x @ S_sub @ res.x.T\n",
    "        RiP = np.sqrt(varP)\n",
    "        SharpeP = ReP / RiP\n",
    "\n",
    "        # Guardar resultados\n",
    "        mejores_portafolios.append({\n",
    "            \"Activos\": subset,\n",
    "            \"ReP (%)\": round(ReP * 100, 4),\n",
    "            \"RiP (%)\": round(RiP * 100, 4),\n",
    "            \"SharpeP\": round(SharpeP, 4)\n",
    "        })\n",
    "\n",
    "# Ordenar por el mejor Sharpe Ratio\n",
    "mejores_portafolios = sorted(mejores_portafolios, key=lambda x: x[\"SharpeP\"], reverse=True)\n",
    "\n",
    "# Convertir a DataFrame y mostrar los resultados\n",
    "df_resultados = pd.DataFrame(mejores_portafolios)\n",
    "print(df_resultados)\n",
    "\n",
    "# Guardar en un archivo Excel\n",
    "df_resultados.to_excel(\"mejores_portafolios.xlsx\", index=False)\n",
    "print(\"\\nResultados guardados en 'mejores_portafolios.xlsx'\")"
   ]
  }
 ],
 "metadata": {
  "kernelspec": {
   "display_name": "Python 3",
   "language": "python",
   "name": "python3"
  },
  "language_info": {
   "codemirror_mode": {
    "name": "ipython",
    "version": 3
   },
   "file_extension": ".py",
   "mimetype": "text/x-python",
   "name": "python",
   "nbconvert_exporter": "python",
   "pygments_lexer": "ipython3",
   "version": "3.13.0"
  }
 },
 "nbformat": 4,
 "nbformat_minor": 2
}
