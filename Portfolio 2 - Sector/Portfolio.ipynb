{
 "cells": [
  {
   "cell_type": "markdown",
   "metadata": {},
   "source": [
    "### 1. Import Libraries"
   ]
  },
  {
   "cell_type": "code",
   "execution_count": 1,
   "metadata": {},
   "outputs": [],
   "source": [
    "import yfinance as yf\n",
    "from scipy.optimize import minimize\n",
    "import numpy as np\n",
    "import os"
   ]
  },
  {
   "cell_type": "markdown",
   "metadata": {},
   "source": [
    "### 2. Data Obtention"
   ]
  },
  {
   "cell_type": "code",
   "execution_count": 2,
   "metadata": {},
   "outputs": [
    {
     "name": "stderr",
     "output_type": "stream",
     "text": [
      "[*********************100%***********************]  4 of 4 completed"
     ]
    },
    {
     "name": "stdout",
     "output_type": "stream",
     "text": [
      "Data:\n",
      "Price      Capital Gains                        Close                       \\\n",
      "Ticker             FEURX FRFZX MEDGX VMIAX      FEURX     FRFZX      MEDGX   \n",
      "Date                                                                         \n",
      "2021-01-04           0.0   0.0   0.0   0.0  25.407726  7.126150  12.105045   \n",
      "2021-01-05           0.0   0.0   0.0   0.0  25.426306  7.133669  12.081510   \n",
      "2021-01-06           0.0   0.0   0.0   0.0  25.426306  7.148701  12.042281   \n",
      "2021-01-07           0.0   0.0   0.0   0.0  25.342697  7.163735  12.018748   \n",
      "2021-01-08           0.0   0.0   0.0   0.0  24.385843  7.178772  12.018748   \n",
      "...                  ...   ...   ...   ...        ...       ...        ...   \n",
      "2024-12-23           0.0   0.0   0.0   0.0  26.559999  9.033373  11.844902   \n",
      "2024-12-24           0.0   0.0   0.0   0.0  26.620001  9.023500  11.844902   \n",
      "2024-12-26           0.0   0.0   0.0   0.0  26.620001  9.023500  11.844902   \n",
      "2024-12-27           0.0   0.0   0.0   0.0  26.520000  9.023500  11.835007   \n",
      "2024-12-30           0.0   0.0   0.0   0.0  26.139999  9.023500  11.844902   \n",
      "\n",
      "Price                 Dividends        ...       Open            Stock Splits  \\\n",
      "Ticker          VMIAX     FEURX FRFZX  ...      MEDGX      VMIAX        FEURX   \n",
      "Date                                   ...                                      \n",
      "2021-01-04  73.909180       0.0   0.0  ...  12.105045  73.909180          0.0   \n",
      "2021-01-05  75.671135       0.0   0.0  ...  12.081510  75.671135          0.0   \n",
      "2021-01-06  78.934021       0.0   0.0  ...  12.042281  78.934021          0.0   \n",
      "2021-01-07  79.474739       0.0   0.0  ...  12.018748  79.474739          0.0   \n",
      "2021-01-08  78.952682       0.0   0.0  ...  12.018748  78.952682          0.0   \n",
      "...               ...       ...   ...  ...        ...        ...          ...   \n",
      "2024-12-23  96.680000       0.0   0.0  ...  11.844902  96.680000          0.0   \n",
      "2024-12-24  97.290001       0.0   0.0  ...  11.844902  97.290001          0.0   \n",
      "2024-12-26  97.160004       0.0   0.0  ...  11.844902  97.160004          0.0   \n",
      "2024-12-27  96.489998       0.0   0.0  ...  11.835007  96.489998          0.0   \n",
      "2024-12-30  95.269997       0.0   0.0  ...  11.844902  95.269997          0.0   \n",
      "\n",
      "Price                        Volume                    \n",
      "Ticker     FRFZX MEDGX VMIAX  FEURX FRFZX MEDGX VMIAX  \n",
      "Date                                                   \n",
      "2021-01-04   0.0   0.0   0.0      0     0     0     0  \n",
      "2021-01-05   0.0   0.0   0.0      0     0     0     0  \n",
      "2021-01-06   0.0   0.0   0.0      0     0     0     0  \n",
      "2021-01-07   0.0   0.0   0.0      0     0     0     0  \n",
      "2021-01-08   0.0   0.0   0.0      0     0     0     0  \n",
      "...          ...   ...   ...    ...   ...   ...   ...  \n",
      "2024-12-23   0.0   0.0   0.0      0     0     0     0  \n",
      "2024-12-24   0.0   0.0   0.0      0     0     0     0  \n",
      "2024-12-26   0.0   0.0   0.0      0     0     0     0  \n",
      "2024-12-27   0.0   0.0   0.0      0     0     0     0  \n",
      "2024-12-30   0.0   0.0   0.0      0     0     0     0  \n",
      "\n",
      "[1004 rows x 32 columns]\n"
     ]
    },
    {
     "name": "stderr",
     "output_type": "stream",
     "text": [
      "\n"
     ]
    }
   ],
   "source": [
    "tickers = yf.Tickers('FEURX FRFZX MEDGX VMIAX')\n",
    "hist = tickers.history(start='2021-01-01',end='2024-12-31')\n",
    "print('Data:')\n",
    "print(hist)"
   ]
  },
  {
   "cell_type": "code",
   "execution_count": 3,
   "metadata": {},
   "outputs": [
    {
     "name": "stdout",
     "output_type": "stream",
     "text": [
      "Adj Close:\n",
      "Ticker          FEURX     FRFZX      MEDGX      VMIAX\n",
      "Date                                                 \n",
      "2021-01-04  25.407726  7.126150  12.105045  73.909180\n",
      "2021-01-05  25.426306  7.133669  12.081510  75.671135\n",
      "2021-01-06  25.426306  7.148701  12.042281  78.934021\n",
      "2021-01-07  25.342697  7.163735  12.018748  79.474739\n",
      "2021-01-08  24.385843  7.178772  12.018748  78.952682\n",
      "...               ...       ...        ...        ...\n",
      "2024-12-23  26.559999  9.033373  11.844902  96.680000\n",
      "2024-12-24  26.620001  9.023500  11.844902  97.290001\n",
      "2024-12-26  26.620001  9.023500  11.844902  97.160004\n",
      "2024-12-27  26.520000  9.023500  11.835007  96.489998\n",
      "2024-12-30  26.139999  9.023500  11.844902  95.269997\n",
      "\n",
      "[1004 rows x 4 columns]\n"
     ]
    }
   ],
   "source": [
    "adj_close = hist['Close']\n",
    "print('Adj Close:')\n",
    "print(adj_close)"
   ]
  },
  {
   "cell_type": "code",
   "execution_count": 4,
   "metadata": {},
   "outputs": [],
   "source": [
    "if os.path.exists('data.xlsx'):\n",
    "    os.remove('data.xlsx')\n",
    "adj_close.to_excel('data.xlsx')"
   ]
  },
  {
   "cell_type": "markdown",
   "metadata": {},
   "source": [
    "### 3. Portfolio Analysis"
   ]
  },
  {
   "cell_type": "code",
   "execution_count": 5,
   "metadata": {},
   "outputs": [
    {
     "name": "stdout",
     "output_type": "stream",
     "text": [
      "Adj Close values:\n",
      "[[25.4077  7.1262 12.105  73.9092]\n",
      " [25.4263  7.1337 12.0815 75.6711]\n",
      " [25.4263  7.1487 12.0423 78.934 ]\n",
      " ...\n",
      " [26.62    9.0235 11.8449 97.16  ]\n",
      " [26.52    9.0235 11.835  96.49  ]\n",
      " [26.14    9.0235 11.8449 95.27  ]]\n",
      "(1004, 4)\n"
     ]
    }
   ],
   "source": [
    "adj_close_values = adj_close.values\n",
    "print('Adj Close values:')\n",
    "print(np.round(adj_close_values,4))\n",
    "print(adj_close_values.shape)"
   ]
  },
  {
   "cell_type": "code",
   "execution_count": 6,
   "metadata": {},
   "outputs": [
    {
     "name": "stdout",
     "output_type": "stream",
     "text": [
      "R:\n",
      "[[ 0.0731  0.1055 -0.1946  2.356 ]\n",
      " [ 0.      0.2105 -0.3252  4.2216]\n",
      " [-0.3294  0.2101 -0.1956  0.6827]\n",
      " ...\n",
      " [ 0.      0.      0.     -0.1337]\n",
      " [-0.3764  0.     -0.0836 -0.692 ]\n",
      " [-1.4432  0.      0.0836 -1.2724]] %\n"
     ]
    }
   ],
   "source": [
    "R = np.log(adj_close_values[1:] / adj_close_values[:-1])\n",
    "print('R:')\n",
    "print(np.round(R*100, 4), '%')"
   ]
  },
  {
   "cell_type": "code",
   "execution_count": 7,
   "metadata": {},
   "outputs": [
    {
     "name": "stdout",
     "output_type": "stream",
     "text": [
      "RE: [ 0.7139  5.9309 -0.5458  6.3786] %\n",
      "RI: [24.7666  3.0984  6.169  19.4995] %\n"
     ]
    }
   ],
   "source": [
    "RE = np.mean(R, axis=0)*252\n",
    "RI = np.std(R, axis=0)*np.sqrt(252)\n",
    "print('RE:', np.round(RE*100, 4), '%')\n",
    "print('RI:', np.round(RI*100, 4), '%')"
   ]
  },
  {
   "cell_type": "code",
   "execution_count": 8,
   "metadata": {},
   "outputs": [
    {
     "name": "stdout",
     "output_type": "stream",
     "text": [
      "Sharpes: [ 0.0288  1.9142 -0.0885  0.3271]\n"
     ]
    }
   ],
   "source": [
    "Sharpes = RE / RI\n",
    "print('Sharpes:', np.round(Sharpes, 4))"
   ]
  },
  {
   "cell_type": "code",
   "execution_count": 9,
   "metadata": {},
   "outputs": [
    {
     "name": "stdout",
     "output_type": "stream",
     "text": [
      "S:\n",
      "[[0.0243649  0.00017486 0.00170849 0.00917301]\n",
      " [0.00017486 0.00038134 0.00035884 0.00062248]\n",
      " [0.00170849 0.00035884 0.00151171 0.00162324]\n",
      " [0.00917301 0.00062248 0.00162324 0.01510364]] %\n"
     ]
    }
   ],
   "source": [
    "S = np.cov(R, rowvar=False)\n",
    "print('S:')\n",
    "print(S*100, '%')"
   ]
  },
  {
   "cell_type": "code",
   "execution_count": 10,
   "metadata": {},
   "outputs": [
    {
     "name": "stdout",
     "output_type": "stream",
     "text": [
      "Correlation:\n",
      "[[1.         0.05736469 0.28151191 0.4781772 ]\n",
      " [0.05736469 1.         0.47262582 0.25937757]\n",
      " [0.28151191 0.47262582 1.         0.33970883]\n",
      " [0.4781772  0.25937757 0.33970883 1.        ]]\n"
     ]
    }
   ],
   "source": [
    "corr = np.corrcoef(R, rowvar=False)\n",
    "print('Correlation:')\n",
    "print(corr)"
   ]
  },
  {
   "cell_type": "code",
   "execution_count": 11,
   "metadata": {},
   "outputs": [
    {
     "name": "stdout",
     "output_type": "stream",
     "text": [
      "Weights: [0.25 0.25 0.25 0.25]\n",
      "Sum of weights: 1.0\n"
     ]
    }
   ],
   "source": [
    "n_assets = R.shape[1]\n",
    "weights = np.ones(n_assets) / n_assets\n",
    "print('Weights:', np.round(weights, 4))\n",
    "print('Sum of weights:', np.sum(weights))"
   ]
  },
  {
   "cell_type": "code",
   "execution_count": 12,
   "metadata": {},
   "outputs": [],
   "source": [
    "def rep(w,r):\n",
    "    return w @ np.transpose(r)\n",
    "\n",
    "def varp(w,s):\n",
    "    return w @ s @ np.transpose(w)"
   ]
  },
  {
   "cell_type": "code",
   "execution_count": 13,
   "metadata": {},
   "outputs": [
    {
     "name": "stdout",
     "output_type": "stream",
     "text": [
      "Portafolio pre-optimización:\n",
      "ReP: 3.1194 %\n",
      "varP: 0.0\n",
      "RiP: 0.6552 %\n",
      "SharpeP: 4.7611\n"
     ]
    }
   ],
   "source": [
    "ReP = rep(weights, RE)\n",
    "varP = varp(weights, S)\n",
    "RiP = np.sqrt(varP)\n",
    "SharpeP = ReP / RiP\n",
    "print('Portafolio pre-optimización:')\n",
    "print('ReP:', round(ReP*100, 4), '%')\n",
    "print('varP:', round(varP, 4))\n",
    "print('RiP:', round(RiP*100, 4), '%')\n",
    "print('SharpeP:', round(SharpeP, 4))"
   ]
  },
  {
   "cell_type": "markdown",
   "metadata": {},
   "source": [
    "### 4. Portfolio Optimization"
   ]
  },
  {
   "cell_type": "code",
   "execution_count": 14,
   "metadata": {},
   "outputs": [
    {
     "name": "stdout",
     "output_type": "stream",
     "text": [
      "Pesos optimizados:\n",
      "[ 0.7906 98.3592  0.8502  0.    ] %\n"
     ]
    }
   ],
   "source": [
    "def constr(w):\n",
    "    return np.sum(w) - 1\n",
    "\n",
    "num_assets = 4\n",
    "bounds = [(0, None)] * num_assets \n",
    "\n",
    "constraints = [{'type': 'eq', 'fun': constr}]\n",
    "\n",
    "res = minimize(\n",
    "    fun=lambda w: varp(w, S),\n",
    "    x0=weights,\n",
    "    method='SLSQP',\n",
    "    bounds=bounds,\n",
    "    constraints=constraints,\n",
    "    options={'disp': False, 'maxiter': 1000, 'ftol': 1e-12}\n",
    ")\n",
    "\n",
    "print('Pesos optimizados:')\n",
    "print(np.round(res.x*100, 4), '%')\n"
   ]
  },
  {
   "cell_type": "code",
   "execution_count": 15,
   "metadata": {},
   "outputs": [
    {
     "name": "stdout",
     "output_type": "stream",
     "text": [
      "Portafolio post-optimización:\n",
      "ReP: 5.8346 %\n",
      "varP: 0.0\n",
      "RiP: 0.1948 %\n",
      "SharpeP: 29.9504\n"
     ]
    }
   ],
   "source": [
    "ReP = rep(res.x, RE)\n",
    "varP = varp(res.x, S)   \n",
    "RiP = np.sqrt(varP)\n",
    "SharpeP = ReP / RiP\n",
    "print('Portafolio post-optimización:')\n",
    "print('ReP:', round(ReP*100, 4), '%')\n",
    "print('varP:', round(varP, 4))\n",
    "print('RiP:', round(RiP*100, 4), '%')\n",
    "print('SharpeP:', round(SharpeP, 4))"
   ]
  }
 ],
 "metadata": {
  "kernelspec": {
   "display_name": "Python 3",
   "language": "python",
   "name": "python3"
  },
  "language_info": {
   "codemirror_mode": {
    "name": "ipython",
    "version": 3
   },
   "file_extension": ".py",
   "mimetype": "text/x-python",
   "name": "python",
   "nbconvert_exporter": "python",
   "pygments_lexer": "ipython3",
   "version": "3.13.0"
  }
 },
 "nbformat": 4,
 "nbformat_minor": 2
}
