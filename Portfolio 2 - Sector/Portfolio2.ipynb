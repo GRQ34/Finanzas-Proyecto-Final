{
  "cells": [
    {
      "cell_type": "markdown",
      "metadata": {
        "id": "bXumEJpUk1R0"
      },
      "source": [
        "### 1. Import Libraries"
      ]
    },
    {
      "cell_type": "code",
      "execution_count": 1,
      "metadata": {
        "id": "9Ifmu_HOk1R1"
      },
      "outputs": [],
      "source": [
        "import yfinance as yf\n",
        "from scipy.optimize import minimize\n",
        "import numpy as np\n",
        "import os"
      ]
    },
    {
      "cell_type": "markdown",
      "metadata": {
        "id": "CxSYTNC8k1R1"
      },
      "source": [
        "### 2. Data Obtention"
      ]
    },
    {
      "cell_type": "code",
      "execution_count": 2,
      "metadata": {
        "colab": {
          "base_uri": "https://localhost:8080/"
        },
        "id": "kgSSnNQ4k1R2",
        "outputId": "c5f472bf-4f90-48bd-ae4b-8dde7e8dd222"
      },
      "outputs": [
        {
          "output_type": "stream",
          "name": "stderr",
          "text": [
            "[*********************100%***********************]  4 of 4 completed"
          ]
        },
        {
          "output_type": "stream",
          "name": "stdout",
          "text": [
            "Data:\n",
            "Price      Capital Gains                        Close                       \\\n",
            "Ticker             FEURX FRFZX MEDGX VMIAX      FEURX     FRFZX      MEDGX   \n",
            "Date                                                                         \n",
            "2021-01-04           0.0   0.0   0.0   0.0  25.407726  7.126151  12.105042   \n",
            "2021-01-05           0.0   0.0   0.0   0.0  25.426308  7.133663  12.081510   \n",
            "2021-01-06           0.0   0.0   0.0   0.0  25.426308  7.148702  12.042284   \n",
            "2021-01-07           0.0   0.0   0.0   0.0  25.342697  7.163738  12.018749   \n",
            "2021-01-08           0.0   0.0   0.0   0.0  24.385843  7.178771  12.018749   \n",
            "...                  ...   ...   ...   ...        ...       ...        ...   \n",
            "2024-12-23           0.0   0.0   0.0   0.0  26.559999  9.033373  11.844903   \n",
            "2024-12-24           0.0   0.0   0.0   0.0  26.620001  9.023501  11.844903   \n",
            "2024-12-26           0.0   0.0   0.0   0.0  26.620001  9.023501  11.844903   \n",
            "2024-12-27           0.0   0.0   0.0   0.0  26.520000  9.023501  11.835007   \n",
            "2024-12-30           0.0   0.0   0.0   0.0  26.139999  9.023501  11.844903   \n",
            "\n",
            "Price                 Dividends        ...       Open            Stock Splits  \\\n",
            "Ticker          VMIAX     FEURX FRFZX  ...      MEDGX      VMIAX        FEURX   \n",
            "Date                                   ...                                      \n",
            "2021-01-04  73.909172       0.0   0.0  ...  12.105042  73.909172          0.0   \n",
            "2021-01-05  75.671143       0.0   0.0  ...  12.081510  75.671143          0.0   \n",
            "2021-01-06  78.934029       0.0   0.0  ...  12.042284  78.934029          0.0   \n",
            "2021-01-07  79.474739       0.0   0.0  ...  12.018749  79.474739          0.0   \n",
            "2021-01-08  78.952667       0.0   0.0  ...  12.018749  78.952667          0.0   \n",
            "...               ...       ...   ...  ...        ...        ...          ...   \n",
            "2024-12-23  96.680000       0.0   0.0  ...  11.844903  96.680000          0.0   \n",
            "2024-12-24  97.290001       0.0   0.0  ...  11.844903  97.290001          0.0   \n",
            "2024-12-26  97.160004       0.0   0.0  ...  11.844903  97.160004          0.0   \n",
            "2024-12-27  96.489998       0.0   0.0  ...  11.835007  96.489998          0.0   \n",
            "2024-12-30  95.269997       0.0   0.0  ...  11.844903  95.269997          0.0   \n",
            "\n",
            "Price                        Volume                    \n",
            "Ticker     FRFZX MEDGX VMIAX  FEURX FRFZX MEDGX VMIAX  \n",
            "Date                                                   \n",
            "2021-01-04   0.0   0.0   0.0      0     0     0     0  \n",
            "2021-01-05   0.0   0.0   0.0      0     0     0     0  \n",
            "2021-01-06   0.0   0.0   0.0      0     0     0     0  \n",
            "2021-01-07   0.0   0.0   0.0      0     0     0     0  \n",
            "2021-01-08   0.0   0.0   0.0      0     0     0     0  \n",
            "...          ...   ...   ...    ...   ...   ...   ...  \n",
            "2024-12-23   0.0   0.0   0.0      0     0     0     0  \n",
            "2024-12-24   0.0   0.0   0.0      0     0     0     0  \n",
            "2024-12-26   0.0   0.0   0.0      0     0     0     0  \n",
            "2024-12-27   0.0   0.0   0.0      0     0     0     0  \n",
            "2024-12-30   0.0   0.0   0.0      0     0     0     0  \n",
            "\n",
            "[1004 rows x 32 columns]\n"
          ]
        },
        {
          "output_type": "stream",
          "name": "stderr",
          "text": [
            "\n"
          ]
        }
      ],
      "source": [
        "tickers = yf.Tickers('FEURX FRFZX MEDGX VMIAX')\n",
        "hist = tickers.history(start='2021-01-01',end='2024-12-31')\n",
        "print('Data:')\n",
        "print(hist)"
      ]
    },
    {
      "cell_type": "code",
      "execution_count": 3,
      "metadata": {
        "colab": {
          "base_uri": "https://localhost:8080/"
        },
        "id": "UcTgfXn1k1R2",
        "outputId": "bf667205-c189-478e-94f4-0069e30bbf45"
      },
      "outputs": [
        {
          "output_type": "stream",
          "name": "stdout",
          "text": [
            "Adj Close:\n",
            "Ticker          FEURX     FRFZX      MEDGX      VMIAX\n",
            "Date                                                 \n",
            "2021-01-04  25.407726  7.126151  12.105042  73.909172\n",
            "2021-01-05  25.426308  7.133663  12.081510  75.671143\n",
            "2021-01-06  25.426308  7.148702  12.042284  78.934029\n",
            "2021-01-07  25.342697  7.163738  12.018749  79.474739\n",
            "2021-01-08  24.385843  7.178771  12.018749  78.952667\n",
            "...               ...       ...        ...        ...\n",
            "2024-12-23  26.559999  9.033373  11.844903  96.680000\n",
            "2024-12-24  26.620001  9.023501  11.844903  97.290001\n",
            "2024-12-26  26.620001  9.023501  11.844903  97.160004\n",
            "2024-12-27  26.520000  9.023501  11.835007  96.489998\n",
            "2024-12-30  26.139999  9.023501  11.844903  95.269997\n",
            "\n",
            "[1004 rows x 4 columns]\n"
          ]
        }
      ],
      "source": [
        "adj_close = hist['Close']\n",
        "print('Adj Close:')\n",
        "print(adj_close)"
      ]
    },
    {
      "cell_type": "code",
      "execution_count": 4,
      "metadata": {
        "id": "yrMbdB6pk1R2"
      },
      "outputs": [],
      "source": [
        "if os.path.exists('data.xlsx'):\n",
        "    os.remove('data.xlsx')\n",
        "adj_close.to_excel('data.xlsx')"
      ]
    },
    {
      "cell_type": "markdown",
      "metadata": {
        "id": "AtJWXuokk1R2"
      },
      "source": [
        "### 3. Portfolio Analysis"
      ]
    },
    {
      "cell_type": "code",
      "execution_count": 5,
      "metadata": {
        "colab": {
          "base_uri": "https://localhost:8080/"
        },
        "id": "_7q32rpTk1R2",
        "outputId": "acbbad23-a6b9-4fd6-ea52-b04050a45d42"
      },
      "outputs": [
        {
          "output_type": "stream",
          "name": "stdout",
          "text": [
            "Adj Close values:\n",
            "[[25.4077  7.1262 12.105  73.9092]\n",
            " [25.4263  7.1337 12.0815 75.6711]\n",
            " [25.4263  7.1487 12.0423 78.934 ]\n",
            " ...\n",
            " [26.62    9.0235 11.8449 97.16  ]\n",
            " [26.52    9.0235 11.835  96.49  ]\n",
            " [26.14    9.0235 11.8449 95.27  ]]\n",
            "(1004, 4)\n"
          ]
        }
      ],
      "source": [
        "adj_close_values = adj_close.values\n",
        "print('Adj Close values:')\n",
        "print(np.round(adj_close_values,4))\n",
        "print(adj_close_values.shape)"
      ]
    },
    {
      "cell_type": "code",
      "execution_count": 6,
      "metadata": {
        "colab": {
          "base_uri": "https://localhost:8080/"
        },
        "id": "VlHJVZ6Qk1R2",
        "outputId": "ce2dc8f5-36fe-42cd-e4e9-dc965e73ddbd"
      },
      "outputs": [
        {
          "output_type": "stream",
          "name": "stdout",
          "text": [
            "R:\n",
            "[[ 0.0731  0.1054 -0.1946  2.356 ]\n",
            " [ 0.      0.2106 -0.3252  4.2216]\n",
            " [-0.3294  0.2101 -0.1956  0.6827]\n",
            " ...\n",
            " [ 0.      0.      0.     -0.1337]\n",
            " [-0.3764  0.     -0.0836 -0.692 ]\n",
            " [-1.4432  0.      0.0836 -1.2724]] %\n"
          ]
        }
      ],
      "source": [
        "R = np.log(adj_close_values[1:] / adj_close_values[:-1])\n",
        "print('R:')\n",
        "print(np.round(R*100, 4), '%')"
      ]
    },
    {
      "cell_type": "code",
      "execution_count": 7,
      "metadata": {
        "colab": {
          "base_uri": "https://localhost:8080/"
        },
        "id": "-eRQCrggk1R2",
        "outputId": "e764c2a1-3254-464a-9d69-d8fdf5d2d93d"
      },
      "outputs": [
        {
          "output_type": "stream",
          "name": "stdout",
          "text": [
            "RE: [ 0.7139  5.931  -0.5458  6.3786] %\n",
            "RI: [24.7666  3.0984  6.169  19.4995] %\n"
          ]
        }
      ],
      "source": [
        "RE = np.mean(R, axis=0)*252\n",
        "RI = np.std(R, axis=0)*np.sqrt(252)\n",
        "print('RE:', np.round(RE*100, 4), '%')\n",
        "print('RI:', np.round(RI*100, 4), '%')"
      ]
    },
    {
      "cell_type": "code",
      "execution_count": 8,
      "metadata": {
        "colab": {
          "base_uri": "https://localhost:8080/"
        },
        "id": "s-91fTthk1R3",
        "outputId": "54a708f2-202a-44f2-bbee-71942d238e8e"
      },
      "outputs": [
        {
          "output_type": "stream",
          "name": "stdout",
          "text": [
            "Sharpes: [ 0.0288  1.9142 -0.0885  0.3271]\n"
          ]
        }
      ],
      "source": [
        "Sharpes = RE / RI\n",
        "print('Sharpes:', np.round(Sharpes, 4))"
      ]
    },
    {
      "cell_type": "code",
      "execution_count": 9,
      "metadata": {
        "colab": {
          "base_uri": "https://localhost:8080/"
        },
        "id": "GFo4pKk9k1R3",
        "outputId": "a169b51e-7cfd-4f52-ade3-be1c08c8dc59"
      },
      "outputs": [
        {
          "output_type": "stream",
          "name": "stdout",
          "text": [
            "S:\n",
            "[[0.0243649  0.00017486 0.0017085  0.00917301]\n",
            " [0.00017486 0.00038134 0.00035884 0.00062249]\n",
            " [0.0017085  0.00035884 0.0015117  0.00162323]\n",
            " [0.00917301 0.00062249 0.00162323 0.01510364]] %\n"
          ]
        }
      ],
      "source": [
        "S = np.cov(R, rowvar=False)\n",
        "print('S:')\n",
        "print(S*100, '%')"
      ]
    },
    {
      "cell_type": "code",
      "execution_count": 10,
      "metadata": {
        "colab": {
          "base_uri": "https://localhost:8080/"
        },
        "id": "Q7VJVaSYk1R3",
        "outputId": "d0c2eae4-ecab-4d46-dde9-ac0f7cd73e79"
      },
      "outputs": [
        {
          "output_type": "stream",
          "name": "stdout",
          "text": [
            "Correlation:\n",
            "[[1.         0.05736385 0.28151403 0.47817727]\n",
            " [0.05736385 1.         0.47261977 0.25937988]\n",
            " [0.28151403 0.47261977 1.         0.33970934]\n",
            " [0.47817727 0.25937988 0.33970934 1.        ]]\n"
          ]
        }
      ],
      "source": [
        "corr = np.corrcoef(R, rowvar=False)\n",
        "print('Correlation:')\n",
        "print(corr)"
      ]
    },
    {
      "cell_type": "code",
      "execution_count": 11,
      "metadata": {
        "colab": {
          "base_uri": "https://localhost:8080/"
        },
        "id": "GT-yrz6Dk1R3",
        "outputId": "ed930936-d950-4921-8bb1-cea568c5d5b3"
      },
      "outputs": [
        {
          "output_type": "stream",
          "name": "stdout",
          "text": [
            "Weights: [0.25 0.25 0.25 0.25]\n",
            "Sum of weights: 1.0\n"
          ]
        }
      ],
      "source": [
        "n_assets = R.shape[1]\n",
        "weights = np.ones(n_assets) / n_assets\n",
        "print('Weights:', np.round(weights, 4))\n",
        "print('Sum of weights:', np.sum(weights))"
      ]
    },
    {
      "cell_type": "code",
      "execution_count": 12,
      "metadata": {
        "id": "iIbc4dLSk1R3"
      },
      "outputs": [],
      "source": [
        "def rep(w,r):\n",
        "    return w @ np.transpose(r)\n",
        "\n",
        "def varp(w,s):\n",
        "    return w @ s @ np.transpose(w)"
      ]
    },
    {
      "cell_type": "code",
      "execution_count": 13,
      "metadata": {
        "colab": {
          "base_uri": "https://localhost:8080/"
        },
        "id": "feosaSzHk1R3",
        "outputId": "89c7e412-13e3-4662-9f9c-1e74faceac17"
      },
      "outputs": [
        {
          "output_type": "stream",
          "name": "stdout",
          "text": [
            "Portafolio pre-optimización:\n",
            "ReP: 3.1194 %\n",
            "varP: 0.0\n",
            "RiP: 10.4008 %\n",
            "SharpeP: 0.2999\n"
          ]
        }
      ],
      "source": [
        "ReP = rep(weights, RE)\n",
        "varP = varp(weights, S)\n",
        "RiP = np.sqrt(varP)*np.sqrt(252)\n",
        "SharpeP = ReP / RiP\n",
        "print('Portafolio pre-optimización:')\n",
        "print('ReP:', round(ReP*100, 4), '%')\n",
        "print('varP:', round(varP, 4))\n",
        "print('RiP:', round(RiP*100, 4), '%')\n",
        "print('SharpeP:', round(SharpeP, 4))"
      ]
    },
    {
      "cell_type": "markdown",
      "metadata": {
        "id": "bpOqhcW_k1R3"
      },
      "source": [
        "### 4. Portfolio Optimization"
      ]
    },
    {
      "cell_type": "code",
      "execution_count": 14,
      "metadata": {
        "colab": {
          "base_uri": "https://localhost:8080/"
        },
        "id": "07K89xFik1R3",
        "outputId": "aa7e503f-0559-4620-dff9-33d4d978c98e"
      },
      "outputs": [
        {
          "output_type": "stream",
          "name": "stdout",
          "text": [
            "Optimization terminated successfully    (Exit mode 0)\n",
            "            Current function value: 3.7951481596425696e-06\n",
            "            Iterations: 24\n",
            "            Function evaluations: 120\n",
            "            Gradient evaluations: 24\n",
            "Éxito: True\n",
            "Mensaje: Optimization terminated successfully\n"
          ]
        }
      ],
      "source": [
        "def constr(w):\n",
        "    return np.sum(w) - 1\n",
        "\n",
        "num_assets = 4\n",
        "bounds = [(0, None)] * num_assets\n",
        "\n",
        "constraints = [{'type': 'eq', 'fun': constr}]\n",
        "\n",
        "res = minimize(\n",
        "    fun=lambda w: varp(w, S),\n",
        "    x0=weights,\n",
        "    method='SLSQP',\n",
        "    bounds=bounds,\n",
        "    constraints=constraints,\n",
        "    options={'disp': True, 'maxiter': 1000, 'ftol': 1e-12}\n",
        ")\n",
        "\n",
        "print(\"Éxito:\", res.success)\n",
        "print(\"Mensaje:\", res.message)\n"
      ]
    },
    {
      "cell_type": "code",
      "execution_count": 15,
      "metadata": {
        "colab": {
          "base_uri": "https://localhost:8080/"
        },
        "id": "_BdVgk8sk1R3",
        "outputId": "e9a9e482-dfed-4ce0-d7d9-36bf4355d5a4"
      },
      "outputs": [
        {
          "output_type": "stream",
          "name": "stdout",
          "text": [
            "Portafolio post-optimización:\n",
            "ReP: 5.8346 %\n",
            "varP: 0.0\n",
            "RiP: 3.0925 %\n",
            "SharpeP: 1.8867\n"
          ]
        }
      ],
      "source": [
        "ReP = rep(res.x, RE)\n",
        "varP = varp(res.x, S)\n",
        "RiP = np.sqrt(varP)*np.sqrt(252)\n",
        "SharpeP = ReP / RiP\n",
        "print('Portafolio post-optimización:')\n",
        "print('ReP:', round(ReP*100, 4), '%')\n",
        "print('varP:', round(varP, 4))\n",
        "print('RiP:', round(RiP*100, 4), '%')\n",
        "print('SharpeP:', round(SharpeP, 4))"
      ]
    }
  ],
  "metadata": {
    "kernelspec": {
      "display_name": "Python 3",
      "language": "python",
      "name": "python3"
    },
    "language_info": {
      "codemirror_mode": {
        "name": "ipython",
        "version": 3
      },
      "file_extension": ".py",
      "mimetype": "text/x-python",
      "name": "python",
      "nbconvert_exporter": "python",
      "pygments_lexer": "ipython3",
      "version": "3.13.0"
    },
    "colab": {
      "provenance": []
    }
  },
  "nbformat": 4,
  "nbformat_minor": 0
}